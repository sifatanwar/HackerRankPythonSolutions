{
 "cells": [
  {
   "cell_type": "code",
   "execution_count": 5,
   "metadata": {},
   "outputs": [
    {
     "name": "stdout",
     "output_type": "stream",
     "text": [
      "hello world\n"
     ]
    }
   ],
   "source": [
    "def main():\n",
    "    print(\"hello world\")\n",
    "\n",
    "# opens as a main file if we're opening from command line\n",
    "if __name__ == \"__main__\": \n",
    "    main()"
   ]
  },
  {
   "cell_type": "code",
   "execution_count": 17,
   "metadata": {},
   "outputs": [
    {
     "name": "stdout",
     "output_type": "stream",
     "text": [
      "0\n",
      "abc\n",
      "this is a string123\n",
      "def\n"
     ]
    },
    {
     "ename": "NameError",
     "evalue": "name 'f' is not defined",
     "output_type": "error",
     "traceback": [
      "\u001b[1;31m---------------------------------------------------------------------------\u001b[0m",
      "\u001b[1;31mNameError\u001b[0m                                 Traceback (most recent call last)",
      "\u001b[1;32m<ipython-input-17-fab0290c728f>\u001b[0m in \u001b[0;36m<module>\u001b[1;34m\u001b[0m\n\u001b[0;32m     13\u001b[0m \u001b[0msomefunction\u001b[0m\u001b[1;33m(\u001b[0m\u001b[1;33m)\u001b[0m\u001b[1;33m\u001b[0m\u001b[1;33m\u001b[0m\u001b[0m\n\u001b[0;32m     14\u001b[0m \u001b[1;32mdel\u001b[0m \u001b[0mf\u001b[0m \u001b[1;31m#deletes the value of f in real time\u001b[0m\u001b[1;33m\u001b[0m\u001b[1;33m\u001b[0m\u001b[0m\n\u001b[1;32m---> 15\u001b[1;33m \u001b[0mprint\u001b[0m\u001b[1;33m(\u001b[0m\u001b[0mf\u001b[0m\u001b[1;33m)\u001b[0m\u001b[1;33m\u001b[0m\u001b[1;33m\u001b[0m\u001b[0m\n\u001b[0m",
      "\u001b[1;31mNameError\u001b[0m: name 'f' is not defined"
     ]
    }
   ],
   "source": [
    "f=0\n",
    "print(f)\n",
    "f=\"abc\"\n",
    "print(f)\n",
    "print(\"this is a string\" + str(123))\n",
    "\n",
    "def somefunction():\n",
    "    global f # instructs to make it a global variable\n",
    "    f=\"def\"\n",
    "    print(f)\n",
    "\n",
    "\n",
    "somefunction()\n",
    "del f # deletes the value of f in real time\n",
    "print(f)"
   ]
  },
  {
   "cell_type": "code",
   "execution_count": 21,
   "metadata": {},
   "outputs": [
    {
     "name": "stdout",
     "output_type": "stream",
     "text": [
      "0\n",
      "10\n",
      "30\n",
      "60\n",
      "100\n",
      "150\n",
      "210\n",
      "280\n",
      "360\n",
      "450\n"
     ]
    }
   ],
   "source": [
    "sum = 0\n",
    "for i in range(100):\n",
    "    if(i%10==0): \n",
    "        sum=sum+i\n",
    "        print(sum)\n",
    "    "
   ]
  },
  {
   "cell_type": "code",
   "execution_count": 35,
   "metadata": {},
   "outputs": [
    {
     "name": "stdout",
     "output_type": "stream",
     "text": [
      "2020-07-24 16:43:18.718960\n",
      "16:43:18.718960 2020-07-24\n"
     ]
    }
   ],
   "source": [
    "from datetime import date\n",
    "from datetime import time\n",
    "from datetime import datetime\n",
    "\n",
    "def main():\n",
    "#     today = date.today()\n",
    "#     print(\"Today's date is\", today)\n",
    "#     print(\"Date compoents:\", today.day, today.month, today.year)\n",
    "#     print(\"Today is weekday # is:\", today.weekday())\n",
    "#     days = ['mon', 'tue', 'wed', 'thu', 'fri', 'sat', 'sun']\n",
    "#     print(\"Today is:\", days[today.weekday()])\n",
    "    dt = datetime.now()\n",
    "    print(dt)\n",
    "    t = datetime.time(dt)\n",
    "    d = datetime.date(dt)\n",
    "    print(t, d)\n",
    "\n",
    "main()\n"
   ]
  },
  {
   "cell_type": "code",
   "execution_count": 42,
   "metadata": {},
   "outputs": [
    {
     "name": "stdout",
     "output_type": "stream",
     "text": [
      "365 days, 5:01:00\n",
      "today is 2020-07-24 16:58:21.842316\n",
      "one year from now is 2021-07-24 16:58:21.842316\n",
      "One week ago it was Friday July 17, 2020\n"
     ]
    }
   ],
   "source": [
    "from datetime import date\n",
    "from datetime import timedelta\n",
    "\n",
    "print(timedelta(days=365, hours=5, minutes=1))\n",
    "now = datetime.now()\n",
    "print(\"today is \" + str(now))\n",
    "print(\"one year from now is \" + str(now + timedelta(days=365)))\n",
    "t = datetime.now() - timedelta(weeks=1)\n",
    "time = t.strftime(\"%A %B %d, %Y\")\n",
    "print(\"One week ago it was \" + time)"
   ]
  },
  {
   "cell_type": "code",
   "execution_count": 51,
   "metadata": {},
   "outputs": [
    {
     "name": "stdout",
     "output_type": "stream",
     "text": [
      "<table border=\"0\" cellpadding=\"0\" cellspacing=\"0\" class=\"month\">\n",
      "<tr><th colspan=\"7\" class=\"month\">January</th></tr>\n",
      "<tr><th class=\"mon\">Mon</th><th class=\"tue\">Tue</th><th class=\"wed\">Wed</th><th class=\"thu\">Thu</th><th class=\"fri\">Fri</th><th class=\"sat\">Sat</th><th class=\"sun\">Sun</th></tr>\n",
      "<tr><td class=\"noday\">&nbsp;</td><td class=\"noday\">&nbsp;</td><td class=\"noday\">&nbsp;</td><td class=\"noday\">&nbsp;</td><td class=\"noday\">&nbsp;</td><td class=\"noday\">&nbsp;</td><td class=\"sun\">1</td></tr>\n",
      "<tr><td class=\"mon\">2</td><td class=\"tue\">3</td><td class=\"wed\">4</td><td class=\"thu\">5</td><td class=\"fri\">6</td><td class=\"sat\">7</td><td class=\"sun\">8</td></tr>\n",
      "<tr><td class=\"mon\">9</td><td class=\"tue\">10</td><td class=\"wed\">11</td><td class=\"thu\">12</td><td class=\"fri\">13</td><td class=\"sat\">14</td><td class=\"sun\">15</td></tr>\n",
      "<tr><td class=\"mon\">16</td><td class=\"tue\">17</td><td class=\"wed\">18</td><td class=\"thu\">19</td><td class=\"fri\">20</td><td class=\"sat\">21</td><td class=\"sun\">22</td></tr>\n",
      "<tr><td class=\"mon\">23</td><td class=\"tue\">24</td><td class=\"wed\">25</td><td class=\"thu\">26</td><td class=\"fri\">27</td><td class=\"sat\">28</td><td class=\"sun\">29</td></tr>\n",
      "<tr><td class=\"mon\">30</td><td class=\"tue\">31</td><td class=\"noday\">&nbsp;</td><td class=\"noday\">&nbsp;</td><td class=\"noday\">&nbsp;</td><td class=\"noday\">&nbsp;</td><td class=\"noday\">&nbsp;</td></tr>\n",
      "</table>\n",
      "\n"
     ]
    }
   ],
   "source": [
    "import calendar\n",
    "# c = calendar.TextCalendar(calendar.MONDAY)\n",
    "# st = c.formatmonth(2017, 1, 0, 0)\n",
    "# print(st)\n",
    "\n",
    "hc = calendar.HTMLCalendar(calendar.MONDAY)\n",
    "st = hc.formatmonth(2017, 1, 0)\n",
    "print(st)"
   ]
  },
  {
   "cell_type": "code",
   "execution_count": 65,
   "metadata": {},
   "outputs": [
    {
     "name": "stdout",
     "output_type": "stream",
     "text": [
      ",January,February,March,April,May,June,July,August,September,October,November,December\n",
      "Monday\n",
      "Tuesday\n",
      "Wednesday\n",
      "Thursday\n",
      "Friday\n",
      "Saturday\n",
      "Sunday\n"
     ]
    },
    {
     "data": {
      "text/plain": [
       "[None, None, None, None, None, None, None]"
      ]
     },
     "execution_count": 65,
     "metadata": {},
     "output_type": "execute_result"
    }
   ],
   "source": [
    "# for i in c.itermonthdays(2020,7):\n",
    "#     print(i)\n",
    "    \n",
    "print(','.join([name for name in calendar.month_name]))\n",
    "[print(day) for day in calendar.day_name]"
   ]
  },
  {
   "cell_type": "code",
   "execution_count": 68,
   "metadata": {},
   "outputs": [
    {
     "name": "stdout",
     "output_type": "stream",
     "text": [
      "Team meetings will happen on: \n",
      "   January  3\n",
      "  February  7\n",
      "     March  6\n",
      "     April  3\n",
      "       May  1\n",
      "      June  5\n",
      "      July  3\n",
      "    August  7\n",
      " September  4\n",
      "   October  2\n",
      "  November  6\n",
      "  December  4\n"
     ]
    }
   ],
   "source": [
    "print(\"Team meetings will happen on: \")\n",
    "for m in range(1,13):\n",
    "    cal = calendar.monthcalendar(2020, m)\n",
    "    weekone = cal[0]\n",
    "    weektwo = cal[1]\n",
    "    \n",
    "    if weekone[calendar.FRIDAY] != 0:\n",
    "        meetday = weekone[calendar.FRIDAY]\n",
    "    else:\n",
    "        meetday = weektwo[calendar.FRIDAY]\n",
    "        \n",
    "    print(\"%10s %2d\" % (calendar.month_name[m], meetday))"
   ]
  },
  {
   "cell_type": "code",
   "execution_count": 72,
   "metadata": {},
   "outputs": [
    {
     "name": "stdout",
     "output_type": "stream",
     "text": [
      "24-Jul-2020 18:24:58\n"
     ]
    }
   ],
   "source": [
    "from datetime import datetime\n",
    "now=datetime.now()\n",
    "print(now.strftime(\"%d-%b-%Y %H:%M:%S\"))"
   ]
  },
  {
   "cell_type": "code",
   "execution_count": 81,
   "metadata": {},
   "outputs": [
    {
     "name": "stdout",
     "output_type": "stream",
     "text": [
      "24 days, 0:00:00\n"
     ]
    }
   ],
   "source": [
    "today = date.today()\n",
    "bday = date(today.year, 6, 30)\n",
    "diff = (today-bday)\n",
    "print(diff)"
   ]
  },
  {
   "cell_type": "code",
   "execution_count": 87,
   "metadata": {},
   "outputs": [
    {
     "name": "stdout",
     "output_type": "stream",
     "text": [
      "2020-07-25\n",
      "2020-07-25\n"
     ]
    }
   ],
   "source": [
    "today=date.today()\n",
    "\n",
    "tomorrow=date(today.year,today.month,today.day+1)\n",
    "print(tomorrow)\n",
    "tomorrow=today+timedelta(days=1)\n",
    "print(tomorrow)\n"
   ]
  },
  {
   "cell_type": "code",
   "execution_count": 89,
   "metadata": {},
   "outputs": [
    {
     "name": "stdout",
     "output_type": "stream",
     "text": [
      "Tomorrow will be Sat\n"
     ]
    }
   ],
   "source": [
    "today=date.today()\n",
    "days=[\"Mon\",\"Tue\",\"Wed\",\"Thu\",\"Fri\",\"Sat\",\"Sun\"]\n",
    "print(\"Tomorrow will be \"+days[(today.weekday()+1)%7])\n"
   ]
  },
  {
   "cell_type": "code",
   "execution_count": 98,
   "metadata": {},
   "outputs": [
    {
     "data": {
      "text/plain": [
       "15"
      ]
     },
     "execution_count": 98,
     "metadata": {},
     "output_type": "execute_result"
    }
   ],
   "source": [
    "with open(\"filename.txt\", 'w') as f:\n",
    "    f.write(\"This is a test.\")\n",
    "\n",
    "del f\n",
    "\n",
    "f = open(\"filename.txt\", 'w')\n",
    "f.write(\"This is a test.\")"
   ]
  },
  {
   "cell_type": "code",
   "execution_count": 104,
   "metadata": {},
   "outputs": [
    {
     "name": "stdout",
     "output_type": "stream",
     "text": [
      "nt\n",
      "Fri Jul 24 18:45:30 2020\n",
      "2020-07-24 18:45:30.273311\n"
     ]
    }
   ],
   "source": [
    "import os\n",
    "from os import path\n",
    "import datetime\n",
    "from datetime import date, time, timedelta\n",
    "import time\n",
    "\n",
    "print(os.name)\n",
    "\n",
    "t = time.ctime(path.getmtime(\"filename.txt\"))\n",
    "print(t)\n",
    "\n",
    "print(datetime.datetime.fromtimestamp(path.getmtime(\"filename.txt\")))"
   ]
  },
  {
   "cell_type": "code",
   "execution_count": 108,
   "metadata": {},
   "outputs": [
    {
     "name": "stdout",
     "output_type": "stream",
     "text": [
      "request code: 200\n",
      "b'<!doctype html><html itemscope=\"\" itemtype=\"http://schema.org/WebPage\" lang=\"en\"><head><meta content=\"Search the world\\'s information, including webpages, images, videos and more. Google has many special features to help you find exactly what you\\'re looking for.\" name=\"description\"><meta content=\"noodp\" name=\"robots\"><meta content=\"text/html; charset=UTF-8\" http-equiv=\"Content-Type\"><meta content=\"/images/branding/googleg/1x/googleg_standard_color_128dp.png\" itemprop=\"image\"><title>Google</title><script nonce=\"sN+mQL1iXJe/eaU+6n4pkQ==\">(function(){window.google={kEI:\\'xWkbX5njPPCoytMPjNyMoAM\\',kEXPI:\\'0,202123,3,4,32,1151585,5662,731,223,3110,546,1448,207,2414,790,10,1226,364,1499,817,383,246,5,1128,226,351,56,97,144,1046,1936,470,293,21,3,370,149,376,156,90,180,2,11,116,72,85,49,57,600,437,1120599,1197736,329531,13677,4855,32691,15248,867,17444,11240,9188,8384,4858,1362,9291,3023,4744,11033,1808,4020,978,7931,5297,2054,920,873,1217,5668,91,3646,1142,13386,4519,1396,1379,919,2277,10,3681,706,1279,2212,530,149,1103,840,518,1465,56,4258,312,1135,1,3,2063,606,2025,544,1231,143,377,1947,2229,95,326,1284,16,2927,2247,1812,1787,3227,1990,855,7,4811,1257,6286,4455,641,2449,2459,1226,1743,4928,108,3407,908,2,5952,7468,1,841,1337,666,432,3,346,1200,865,1,372,3546,706,148,189,2837,475,2489,2251,1992,1998,1744,4,1528,17,685,3,1599,1236,271,874,405,1259,581,20,177,1918,192,179,745,973,9,43,214,1202,961,464,459,120,755,6,438,23,15,198,601,3466,293,1972,86,3,1493,877,910,1423,72,305,280,1082,948,1514,555,20,434,7,281,500,1253,91,599,1414,554,2,237,6,247,53,668,167,609,1556,44,465,107,81,102,219,194,4,912,67,175,35,287,689,376,7,47,31,210,250,3,35,410,1,264,888,5,2,149,64,1712,152,503,217,2,88,113,65,34,3,115,16,6,46,5,318,87,479,415,219,211,280,366,4,72,3,159,2,14,142,309,21,1131,314,50,564,383,2684,2,4,5784723,1874,5998826,2801216,549,333,444,1,2,80,1,900,896,1,9,2,2551,1,748,141,795,10,553,1,4265,1,1,2,1017,9,305,3299,129,2,20,3,62,7,25,64,33,3502100,20458659\\',kBL:\\'aaAI\\'};google.sn=\\'webhp\\';google.kHL=\\'en\\';})();(function(){google.lc=[];google.li=0;google.getEI=function(a){for(var c;a&&(!a.getAttribute||!(c=a.getAttribute(\"eid\")));)a=a.parentNode;return c||google.kEI};google.getLEI=function(a){for(var c=null;a&&(!a.getAttribute||!(c=a.getAttribute(\"leid\")));)a=a.parentNode;return c};google.ml=function(){return null};google.time=function(){return Date.now()};google.log=function(a,c,b,d,g){if(b=google.logUrl(a,c,b,d,g)){a=new Image;var e=google.lc,f=google.li;e[f]=a;a.onerror=a.onload=a.onabort=function(){delete e[f]};google.vel&&google.vel.lu&&google.vel.lu(b);a.src=b;google.li=f+1}};google.logUrl=function(a,c,b,d,g){var e=\"\",f=google.ls||\"\";b||-1!=c.search(\"&ei=\")||(e=\"&ei=\"+google.getEI(d),-1==c.search(\"&lei=\")&&(d=google.getLEI(d))&&(e+=\"&lei=\"+d));d=\"\";!b&&google.cshid&&-1==c.search(\"&cshid=\")&&\"slh\"!=a&&(d=\"&cshid=\"+google.cshid);b=b||\"/\"+(g||\"gen_204\")+\"?atyp=i&ct=\"+a+\"&cad=\"+c+e+f+\"&zx=\"+google.time()+d;/^http:/i.test(b)&&\"https:\"==window.location.protocol&&(google.ml(Error(\"a\"),!1,{src:b,glmm:1}),b=\"\");return b};}).call(this);(function(){google.y={};google.x=function(a,b){if(a)var c=a.id;else{do c=Math.random();while(google.y[c])}google.y[c]=[a,b];return!1};google.lm=[];google.plm=function(a){google.lm.push.apply(google.lm,a)};google.lq=[];google.load=function(a,b,c){google.lq.push([[a],b,c])};google.loadAll=function(a,b){google.lq.push([a,b])};}).call(this);google.f={};(function(){\\ndocument.documentElement.addEventListener(\"submit\",function(b){var a;if(a=b.target){var c=a.getAttribute(\"data-submitfalse\");a=\"1\"==c||\"q\"==c&&!a.elements.q.value?!0:!1}else a=!1;a&&(b.preventDefault(),b.stopPropagation())},!0);document.documentElement.addEventListener(\"click\",function(b){var a;a:{for(a=b.target;a&&a!=document.documentElement;a=a.parentElement)if(\"A\"==a.tagName){a=\"1\"==a.getAttribute(\"data-nohref\");break a}a=!1}a&&b.preventDefault()},!0);}).call(this);\\nvar a=window.location,b=a.href.indexOf(\"#\");if(0<=b){var c=a.href.substring(b+1);/(^|&)q=/.test(c)&&-1==c.indexOf(\"#\")&&a.replace(\"/search?\"+c.replace(/(^|&)fp=[^&]*/g,\"\")+\"&cad=h\")};</script><style>#gbar,#guser{font-size:13px;padding-top:1px !important;}#gbar{height:22px}#guser{padding-bottom:7px !important;text-align:right}.gbh,.gbd{border-top:1px solid #c9d7f1;font-size:1px}.gbh{height:0;position:absolute;top:24px;width:100%}@media all{.gb1{height:22px;margin-right:.5em;vertical-align:top}#gbar{float:left}}a.gb1,a.gb4{text-decoration:underline !important}a.gb1,a.gb4{color:#00c !important}.gbi .gb4{color:#dd8e27 !important}.gbf .gb4{color:#900 !important}\\n</style><style>body,td,a,p,.h{font-family:arial,sans-serif}body{margin:0;overflow-y:scroll}#gog{padding:3px 8px 0}td{line-height:.8em}.gac_m td{line-height:17px}form{margin-bottom:20px}.h{color:#36c}.q{color:#00c}em{font-weight:bold;font-style:normal}.lst{height:25px;width:496px}.gsfi,.lst{font:18px arial,sans-serif}.gsfs{font:17px arial,sans-serif}.ds{display:inline-box;display:inline-block;margin:3px 0 4px;margin-left:4px}input{font-family:inherit}body{background:#fff;color:#000}a{color:#11c;text-decoration:none}a:hover,a:active{text-decoration:underline}.fl a{color:#36c}a:visited{color:#551a8b}.sblc{padding-top:5px}.sblc a{display:block;margin:2px 0;margin-left:13px;font-size:11px}.lsbb{background:#eee;border:solid 1px;border-color:#ccc #999 #999 #ccc;height:30px}.lsbb{display:block}#fll a{display:inline-block;margin:0 12px}.lsb{background:url(/images/nav_logo229.png) 0 -261px repeat-x;border:none;color:#000;cursor:pointer;height:30px;margin:0;outline:0;font:15px arial,sans-serif;vertical-align:top}.lsb:active{background:#ccc}.lst:focus{outline:none}</style><script nonce=\"sN+mQL1iXJe/eaU+6n4pkQ==\"></script></head><body bgcolor=\"#fff\"><script nonce=\"sN+mQL1iXJe/eaU+6n4pkQ==\">(function(){var src=\\'/images/nav_logo229.png\\';var iesg=false;document.body.onload = function(){window.n && window.n();if (document.images){new Image().src=src;}\\nif (!iesg){document.f&&document.f.q.focus();document.gbqf&&document.gbqf.q.focus();}\\n}\\n})();</script><div id=\"mngb\"><div id=gbar><nobr><b class=gb1>Search</b> <a class=gb1 href=\"http://www.google.com/imghp?hl=en&tab=wi\">Images</a> <a class=gb1 href=\"http://maps.google.com/maps?hl=en&tab=wl\">Maps</a> <a class=gb1 href=\"https://play.google.com/?hl=en&tab=w8\">Play</a> <a class=gb1 href=\"http://www.youtube.com/?gl=US&tab=w1\">YouTube</a> <a class=gb1 href=\"http://news.google.com/nwshp?hl=en&tab=wn\">News</a> <a class=gb1 href=\"https://mail.google.com/mail/?tab=wm\">Gmail</a> <a class=gb1 href=\"https://drive.google.com/?tab=wo\">Drive</a> <a class=gb1 style=\"text-decoration:none\" href=\"https://www.google.com/intl/en/about/products?tab=wh\"><u>More</u> &raquo;</a></nobr></div><div id=guser width=100%><nobr><span id=gbn class=gbi></span><span id=gbf class=gbf></span><span id=gbe></span><a href=\"http://www.google.com/history/optout?hl=en\" class=gb4>Web History</a> | <a  href=\"/preferences?hl=en\" class=gb4>Settings</a> | <a target=_top id=gb_70 href=\"https://accounts.google.com/ServiceLogin?hl=en&passive=true&continue=http://www.google.com/\" class=gb4>Sign in</a></nobr></div><div class=gbh style=left:0></div><div class=gbh style=right:0></div></div><center><br clear=\"all\" id=\"lgpd\"><div id=\"lga\"><img alt=\"Google\" height=\"92\" src=\"/images/branding/googlelogo/1x/googlelogo_white_background_color_272x92dp.png\" style=\"padding:28px 0 14px\" width=\"272\" id=\"hplogo\"><br><br></div><form action=\"/search\" name=\"f\"><table cellpadding=\"0\" cellspacing=\"0\"><tr valign=\"top\"><td width=\"25%\">&nbsp;</td><td align=\"center\" nowrap=\"\"><input name=\"ie\" value=\"ISO-8859-1\" type=\"hidden\"><input value=\"en\" name=\"hl\" type=\"hidden\"><input name=\"source\" type=\"hidden\" value=\"hp\"><input name=\"biw\" type=\"hidden\"><input name=\"bih\" type=\"hidden\"><div class=\"ds\" style=\"height:32px;margin:4px 0\"><input class=\"lst\" style=\"margin:0;padding:5px 8px 0 6px;vertical-align:top;color:#000\" autocomplete=\"off\" value=\"\" title=\"Google Search\" maxlength=\"2048\" name=\"q\" size=\"57\"></div><br style=\"line-height:0\"><span class=\"ds\"><span class=\"lsbb\"><input class=\"lsb\" value=\"Google Search\" name=\"btnG\" type=\"submit\"></span></span><span class=\"ds\"><span class=\"lsbb\"><input class=\"lsb\" id=\"tsuid1\" value=\"I\\'m Feeling Lucky\" name=\"btnI\" type=\"submit\"><script nonce=\"sN+mQL1iXJe/eaU+6n4pkQ==\">(function(){var id=\\'tsuid1\\';document.getElementById(id).onclick = function(){if (this.form.q.value){this.checked = 1;if (this.form.iflsig)this.form.iflsig.disabled = false;}\\nelse top.location=\\'/doodles/\\';};})();</script><input value=\"AINFCbYAAAAAXxt31hPrk7d5WKz3Km3tAkLfebFqRoCR\" name=\"iflsig\" type=\"hidden\"></span></span></td><td class=\"fl sblc\" align=\"left\" nowrap=\"\" width=\"25%\"><a href=\"/advanced_search?hl=en&amp;authuser=0\">Advanced search</a></td></tr></table><input id=\"gbv\" name=\"gbv\" type=\"hidden\" value=\"1\"><script nonce=\"sN+mQL1iXJe/eaU+6n4pkQ==\">(function(){var a,b=\"1\";if(document&&document.getElementById)if(\"undefined\"!=typeof XMLHttpRequest)b=\"2\";else if(\"undefined\"!=typeof ActiveXObject){var c,d,e=[\"MSXML2.XMLHTTP.6.0\",\"MSXML2.XMLHTTP.3.0\",\"MSXML2.XMLHTTP\",\"Microsoft.XMLHTTP\"];for(c=0;d=e[c++];)try{new ActiveXObject(d),b=\"2\"}catch(h){}}a=b;if(\"2\"==a&&-1==location.search.indexOf(\"&gbv=2\")){var f=google.gbvu,g=document.getElementById(\"gbv\");g&&(g.value=a);f&&window.setTimeout(function(){location.href=f},0)};}).call(this);</script></form><div id=\"gac_scont\"></div><div style=\"font-size:83%;min-height:3.5em\"><br></div><span id=\"footer\"><div style=\"font-size:10pt\"><div style=\"margin:19px auto;text-align:center\" id=\"fll\"><a href=\"/intl/en/ads/\">Advertising\\xa0Programs</a><a href=\"/services/\">Business Solutions</a><a href=\"/intl/en/about.html\">About Google</a></div></div><p style=\"font-size:8pt;color:#767676\">&copy; 2020 - <a href=\"/intl/en/policies/privacy/\">Privacy</a> - <a href=\"/intl/en/policies/terms/\">Terms</a></p></span></center><script nonce=\"sN+mQL1iXJe/eaU+6n4pkQ==\">(function(){window.google.cdo={height:0,width:0};(function(){var a=window.innerWidth,b=window.innerHeight;if(!a||!b){var c=window.document,d=\"CSS1Compat\"==c.compatMode?c.documentElement:c.body;a=d.clientWidth;b=d.clientHeight}a&&b&&(a!=google.cdo.width||b!=google.cdo.height)&&google.log(\"\",\"\",\"/client_204?&atyp=i&biw=\"+a+\"&bih=\"+b+\"&ei=\"+google.kEI);}).call(this);})();(function(){var u=\\'/xjs/_/js/k\\\\x3dxjs.hp.en_US.v1Yj6_3_xDY.O/m\\\\x3dsb_he,d/am\\\\x3dAE-wOQ/d\\\\x3d1/rs\\\\x3dACT90oHxuZHmSFByKKKhO9lKfARcvsOJJg\\';\\nsetTimeout(function(){var b=document;var a=\"SCRIPT\";\"application/xhtml+xml\"===b.contentType&&(a=a.toLowerCase());a=b.createElement(a);a.src=u;google.timers&&google.timers.load&&google.tick&&google.tick(\"load\",\"xjsls\");document.body.appendChild(a)},0);})();(function(){window.google.xjsu=\\'/xjs/_/js/k\\\\x3dxjs.hp.en_US.v1Yj6_3_xDY.O/m\\\\x3dsb_he,d/am\\\\x3dAE-wOQ/d\\\\x3d1/rs\\\\x3dACT90oHxuZHmSFByKKKhO9lKfARcvsOJJg\\';})();function _DumpException(e){throw e;}\\nfunction _F_installCss(c){}\\n(function(){google.jl={dw:false,em:[],emw:false,lls:\\'default\\',pdt:0,snet:true,uwp:true};})();(function(){var pmc=\\'{\\\\x22d\\\\x22:{},\\\\x22sb_he\\\\x22:{\\\\x22agen\\\\x22:true,\\\\x22cgen\\\\x22:true,\\\\x22client\\\\x22:\\\\x22heirloom-hp\\\\x22,\\\\x22dh\\\\x22:true,\\\\x22dhqt\\\\x22:true,\\\\x22ds\\\\x22:\\\\x22\\\\x22,\\\\x22ffql\\\\x22:\\\\x22en\\\\x22,\\\\x22fl\\\\x22:true,\\\\x22host\\\\x22:\\\\x22google.com\\\\x22,\\\\x22isbh\\\\x22:28,\\\\x22jsonp\\\\x22:true,\\\\x22msgs\\\\x22:{\\\\x22cibl\\\\x22:\\\\x22Clear Search\\\\x22,\\\\x22dym\\\\x22:\\\\x22Did you mean:\\\\x22,\\\\x22lcky\\\\x22:\\\\x22I\\\\\\\\u0026#39;m Feeling Lucky\\\\x22,\\\\x22lml\\\\x22:\\\\x22Learn more\\\\x22,\\\\x22oskt\\\\x22:\\\\x22Input tools\\\\x22,\\\\x22psrc\\\\x22:\\\\x22This search was removed from your \\\\\\\\u003Ca href\\\\x3d\\\\\\\\\\\\x22/history\\\\\\\\\\\\x22\\\\\\\\u003EWeb History\\\\\\\\u003C/a\\\\\\\\u003E\\\\x22,\\\\x22psrl\\\\x22:\\\\x22Remove\\\\x22,\\\\x22sbit\\\\x22:\\\\x22Search by image\\\\x22,\\\\x22srch\\\\x22:\\\\x22Google Search\\\\x22},\\\\x22ovr\\\\x22:{},\\\\x22pq\\\\x22:\\\\x22\\\\x22,\\\\x22refpd\\\\x22:true,\\\\x22rfs\\\\x22:[],\\\\x22sbpl\\\\x22:16,\\\\x22sbpr\\\\x22:16,\\\\x22scd\\\\x22:10,\\\\x22stok\\\\x22:\\\\x22_y0Yn8DIxDSpI70KShgMkxql2OE\\\\x22,\\\\x22uhde\\\\x22:false}}\\';google.pmc=JSON.parse(pmc);})();</script>        </body></html>'\n"
     ]
    }
   ],
   "source": [
    "import urllib.request\n",
    "\n",
    "def main():\n",
    "    webUrl = urllib.request.urlopen(\"http://www.google.com\")\n",
    "    print(\"request code: \" + str(webUrl.getcode()))\n",
    "\n",
    "    data = webUrl.read()\n",
    "    print(data)\n",
    "    \n",
    "if __name__ == '__main__':\n",
    "    main()"
   ]
  },
  {
   "cell_type": "code",
   "execution_count": 143,
   "metadata": {
    "scrolled": true
   },
   "outputs": [
    {
     "name": "stdout",
     "output_type": "stream",
     "text": [
      "result code 200\n",
      "USGS Magnitude 2.5+ Earthquakes, Past Hour\n",
      "1 events recorded\n",
      "2.66 17km N of Olancha, CA\n",
      "2.7 17km N of Olancha, CA\n"
     ]
    }
   ],
   "source": [
    "import urllib.request\n",
    "import json\n",
    "\n",
    "def printResults(data):\n",
    "    # Use the json module to laod the string data into dictonary\n",
    "    theJSON = json.loads(data)\n",
    "    \n",
    "    if \"title\" in theJSON[\"metadata\"]:\n",
    "        print(theJSON[\"metadata\"][\"title\"])\n",
    "    \n",
    "    count = theJSON[\"metadata\"][\"count\"]\n",
    "    print(str(count) + \" events recorded\")\n",
    "    \n",
    "    for i in theJSON[\"features\"]:\n",
    "        print(i['properties']['mag'], i[\"properties\"][\"place\"])\n",
    "        \n",
    "    for i in theJSON[\"features\"]:\n",
    "        if(i[\"properties\"][\"mag\"] >= 2.0):\n",
    "            print(\"%2.1f\" % i['properties']['mag'], i['properties']['place'])\n",
    "        \n",
    "def main():\n",
    "    urlData = \"https://earthquake.usgs.gov/earthquakes/feed/v1.0/summary/2.5_hour.geojson\"\n",
    "    webUrl = urllib.request.urlopen(urlData)\n",
    "    print(\"result code \" + str(webUrl.getcode()))\n",
    "    if(webUrl.getcode() == 200):\n",
    "        data = webUrl.read()\n",
    "        printResults(data)\n",
    "    else:\n",
    "        print(\"Cannot parse data!\")\n",
    "\n",
    "if __name__ == \"__main__\":\n",
    "        main()"
   ]
  },
  {
   "cell_type": "code",
   "execution_count": 145,
   "metadata": {},
   "outputs": [
    {
     "ename": "IndentationError",
     "evalue": "expected an indented block (<ipython-input-145-3da9eaf5b4b4>, line 8)",
     "output_type": "error",
     "traceback": [
      "\u001b[1;36m  File \u001b[1;32m\"<ipython-input-145-3da9eaf5b4b4>\"\u001b[1;36m, line \u001b[1;32m8\u001b[0m\n\u001b[1;33m    def main():\u001b[0m\n\u001b[1;37m      ^\u001b[0m\n\u001b[1;31mIndentationError\u001b[0m\u001b[1;31m:\u001b[0m expected an indented block\n"
     ]
    }
   ],
   "source": [
    "#HTML Parser Class\n",
    "from html.parser import HTMLParser\n",
    "\n",
    "class MyHTMLParser(HTMLParser):\n",
    "    \n",
    "\n",
    "\n",
    "def main():\n",
    "    parser = myHTMLParser()\n",
    "    f = open(\"samplehtml.html\")\n",
    "    if(f.mode == 'r'):\n",
    "        contents = f.read()\n",
    "        parser.feed(contents)\n",
    "if __name__ = '__main__':\n",
    "    main()"
   ]
  },
  {
   "cell_type": "code",
   "execution_count": null,
   "metadata": {},
   "outputs": [],
   "source": []
  }
 ],
 "metadata": {
  "kernelspec": {
   "display_name": "Python 3",
   "language": "python",
   "name": "python3"
  },
  "language_info": {
   "codemirror_mode": {
    "name": "ipython",
    "version": 3
   },
   "file_extension": ".py",
   "mimetype": "text/x-python",
   "name": "python",
   "nbconvert_exporter": "python",
   "pygments_lexer": "ipython3",
   "version": "3.7.6"
  }
 },
 "nbformat": 4,
 "nbformat_minor": 4
}
