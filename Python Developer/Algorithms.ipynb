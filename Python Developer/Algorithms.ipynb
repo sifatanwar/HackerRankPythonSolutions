{
 "cells": [
  {
   "cell_type": "code",
   "execution_count": 1,
   "metadata": {},
   "outputs": [],
   "source": [
    "# Algorithm complexity:\n",
    "# Space Complexity: How much memory does it require\n",
    "# Time Complexity: How much time does it require\n",
    "\n",
    "# Classification\n",
    "# Serial (works sequentially)/Parallel (in conjuction with others, \n",
    "# exact/approximate (in terms of results), \n",
    "# deterministic (same answer every time)/non-deterministic (improves based on guesses)"
   ]
  },
  {
   "cell_type": "code",
   "execution_count": 2,
   "metadata": {},
   "outputs": [],
   "source": [
    "# Search algorithms - Data in a data structure\n",
    "# Sorting algorithms - Order data\n",
    "# Computation algorithm - Given one set of data, compute another\n",
    "# Collection algorith - Manipulating data "
   ]
  },
  {
   "cell_type": "code",
   "execution_count": 3,
   "metadata": {},
   "outputs": [
    {
     "name": "stdout",
     "output_type": "stream",
     "text": [
      "60\n",
      "96\n",
      "12\n"
     ]
    }
   ],
   "source": [
    "# Euclid's Algo\n",
    "# Greatest common denominator of two integers\n",
    "\n",
    "def gcd(a, b):\n",
    "    rem = a%b\n",
    "    while(rem!=0):\n",
    "        a = b\n",
    "        b = rem\n",
    "        rem = a%b\n",
    "    return b\n",
    "\n",
    "def main():\n",
    "    print(gcd(int(input()), int(input())))\n",
    "\n",
    "if __name__ == '__main__':\n",
    "    main()"
   ]
  },
  {
   "cell_type": "code",
   "execution_count": 4,
   "metadata": {},
   "outputs": [],
   "source": [
    "# Algo Performance\n",
    "# Big-O Performance"
   ]
  },
  {
   "cell_type": "code",
   "execution_count": 5,
   "metadata": {},
   "outputs": [],
   "source": [
    "# Data Structures\n",
    "# Used to organize data in various ways\n",
    "# Arrays (Todo list), Linked Lists, Stacks and Queues, \n",
    "# Trees (Files and directories), Hash Tables\n"
   ]
  },
  {
   "cell_type": "code",
   "execution_count": 6,
   "metadata": {},
   "outputs": [],
   "source": [
    "# Array\n",
    "# Collection of element position of which is determined by a key\n",
    "# Elements start from 0 and can have multiple dimension\n",
    "\n",
    "# Calculate item index O(1), Insert delete at begining or middle O(n)\n",
    "# Insert delete at end O(1)\n",
    "\n",
    "# Linked List\n",
    "# Linear Collection of data elements called nodes\n",
    "# Has a reference to the next item on the list (also called the head) \n",
    "# and the last of the item point to null signifying the end of the list \n",
    "# this is a singly linked list and doubly linked list points to the \n",
    "# previous item  of the lsit too. Elements can be inserted and dleeted \n",
    "# in easily but reading is not as fast. Underlying memory doesn't need to\n",
    "# be reorganized.\n"
   ]
  },
  {
   "cell_type": "code",
   "execution_count": 36,
   "metadata": {},
   "outputs": [
    {
     "name": "stdout",
     "output_type": "stream",
     "text": [
      "Hello World\n",
      "Item Count:  7\n",
      "Node:  5\n",
      "Node:  100\n",
      "Node:  33\n",
      "Node:  15\n",
      "Node:  13\n",
      "Node:  49\n",
      "Node:  38\n",
      "Item Count:  6\n",
      "Node:  5\n",
      "Node:  33\n",
      "Node:  15\n",
      "Node:  13\n",
      "Node:  49\n",
      "Node:  38\n"
     ]
    }
   ],
   "source": [
    "class Node(object):\n",
    "    def __init__ (self, val):\n",
    "        self.val = val\n",
    "        self.next = None\n",
    "    \n",
    "    def get_data(self):\n",
    "        return self.val\n",
    "        \n",
    "    def set_data(self, val):\n",
    "        self.val = val\n",
    "    \n",
    "    def get_next(self):\n",
    "        return self.next\n",
    "        \n",
    "    def set_next(self, next):\n",
    "        self.next = next\n",
    "        \n",
    "class LinkedList(object):\n",
    "    def __init__ (self, head=None):\n",
    "        self.head = head\n",
    "        self.count = 0 # nodes in list\n",
    "        \n",
    "    def get_count(self):\n",
    "        return self.count\n",
    "        \n",
    "    def insert(self, data):\n",
    "        new_node = Node(data)\n",
    "        new_node.set_next(self.head) # we are only inserting at the head\n",
    "        self.head = new_node\n",
    "        self.count += 1\n",
    "        \n",
    "    def find(self, val):\n",
    "        item = self.head\n",
    "        while(item != None):\n",
    "            if(item.get_data() == val):\n",
    "                return item\n",
    "            else:\n",
    "                item = item.get_next()\n",
    "        return None\n",
    "    \n",
    "    def deleteAt(self, idx):\n",
    "        if (idx > (self.count)-1):\n",
    "            return\n",
    "        else:\n",
    "            curr = self.head\n",
    "            if(idx==0):\n",
    "                self.head = curr.get_next()\n",
    "            while(idx > 0):\n",
    "                curr.get_next()\n",
    "                idx -= 1\n",
    "            temp = curr.get_next()\n",
    "            curr.set_next(curr.get_next().get_next())\n",
    "            temp.set_next(None)\n",
    "            self.count -= 1\n",
    "            \n",
    "    \n",
    "    def dump_list(self):\n",
    "        tempnode = self.head\n",
    "        while(tempnode != None):\n",
    "            print(\"Node: \", tempnode.get_data())\n",
    "            tempnode = tempnode.get_next()\n",
    "\n",
    "def main():\n",
    "    print('Hello World')\n",
    "    itemList = LinkedList()\n",
    "    itemList.insert(38)\n",
    "    itemList.insert(49)\n",
    "    itemList.insert(13)\n",
    "    itemList.insert(15)\n",
    "    itemList.insert(33)\n",
    "    itemList.insert(100)\n",
    "    itemList.insert(5)\n",
    "    print(\"Item Count: \", itemList.get_count())\n",
    "    itemList.dump_list()\n",
    "    itemList.deleteAt(5)\n",
    "    print(\"Item Count: \", itemList.get_count())\n",
    "    itemList.dump_list()\n",
    "    \n",
    "    \n",
    "#     print(\"Finding Item: \", itemList.find(13))\n",
    "#     print(\"Finding Item: \", itemList.find(100))\n",
    "#     print(\"Finding Item: \", itemList.find(50))\n",
    "\n",
    "if __name__ == '__main__':\n",
    "    main()"
   ]
  },
  {
   "cell_type": "code",
   "execution_count": 38,
   "metadata": {},
   "outputs": [],
   "source": [
    "# Stacks and Queues\n",
    "# Stacks support push and pop. Both constant time operations. LIFO.\n",
    "## Expression processing, backtracking\n",
    "# Queue supports adding and removing. FIFO.\n",
    "## Order processing, messaging"
   ]
  },
  {
   "cell_type": "code",
   "execution_count": 42,
   "metadata": {},
   "outputs": [
    {
     "name": "stdout",
     "output_type": "stream",
     "text": [
      "[1, 2, 3, 4]\n",
      "4\n",
      "[1, 2, 3]\n"
     ]
    }
   ],
   "source": [
    "# List represents stack and queue\n",
    "\n",
    "stack = []\n",
    "stack.append(1)\n",
    "stack.append(2)\n",
    "stack.append(3)\n",
    "stack.append(4)\n",
    "print(stack)\n",
    "print(stack.pop())\n",
    "print(stack)"
   ]
  },
  {
   "cell_type": "code",
   "execution_count": 48,
   "metadata": {},
   "outputs": [
    {
     "name": "stdout",
     "output_type": "stream",
     "text": [
      "deque([1, 2, 3, 4])\n",
      "1\n",
      "deque([2, 3, 4])\n"
     ]
    }
   ],
   "source": [
    "from collections import deque\n",
    "queue = deque()\n",
    "queue.append(1)\n",
    "queue.append(2)\n",
    "queue.append(3)\n",
    "queue.append(4)\n",
    "print(queue)\n",
    "print(queue.popleft())\n",
    "print(queue)"
   ]
  },
  {
   "cell_type": "code",
   "execution_count": 58,
   "metadata": {},
   "outputs": [
    {
     "name": "stdout",
     "output_type": "stream",
     "text": [
      "{'key1': 1, 'key2': 2, 'key3': 3}\n",
      "{'key1': 1, 'key2': 2, 'key3': 3}\n",
      "2\n",
      "key1 contains 1\n",
      "key2 contains 2\n",
      "key3 contains 3\n"
     ]
    }
   ],
   "source": [
    "# Hash Tables\n",
    "\n",
    "items1 = dict({\"key1\": 1, \"key2\": 2, \"key3\": 3})\n",
    "print(items1)\n",
    "items2 = {}\n",
    "items2[\"key1\"] = 1\n",
    "items2[\"key2\"] = 2\n",
    "items2[\"key3\"] = 3\n",
    "print(items2)\n",
    "print(items2[\"key2\"])\n",
    "\n",
    "for key, value in items2.items():\n",
    "    print(key, \"contains\", value)"
   ]
  },
  {
   "cell_type": "code",
   "execution_count": 64,
   "metadata": {},
   "outputs": [
    {
     "name": "stdout",
     "output_type": "stream",
     "text": [
      "4 ...\n",
      "3 ...\n",
      "2 ...\n",
      "1 ...\n",
      "done!\n"
     ]
    }
   ],
   "source": [
    "# Recursion\n",
    "# Call stack\n",
    "\n",
    "def countdown(x):\n",
    "    if(x==0): # breaking condition\n",
    "        print(\"done!\")\n",
    "        return\n",
    "    else:\n",
    "        print(x, \"...\")\n",
    "        return countdown(x-1)\n",
    "        \n",
    "\n",
    "def main():\n",
    "    countdown(4)\n",
    "    \n",
    "if __name__ == '__main__':\n",
    "    main()"
   ]
  },
  {
   "cell_type": "code",
   "execution_count": 73,
   "metadata": {},
   "outputs": [
    {
     "name": "stdout",
     "output_type": "stream",
     "text": [
      "Power 4 of 2 is 16\n",
      "Factorial of 4 is 24\n"
     ]
    }
   ],
   "source": [
    "# Power function\n",
    "def power(num, pwr):\n",
    "    if(pwr == 0):\n",
    "        return 1\n",
    "    else:\n",
    "        return num * power(num, pwr-1)\n",
    "\n",
    "# Factorial\n",
    "def fac(num):\n",
    "    if(num == 0):\n",
    "        return 1\n",
    "    else:\n",
    "        return num * fac(num - 1)\n",
    "\n",
    "def main():\n",
    "    a = 2\n",
    "    b = 4\n",
    "    print(f'Power {b} of {a} is {power(a,b)}')\n",
    "    print(f'Factorial of {b} is {fac(b)}')\n",
    "\n",
    "if __name__ == '__main__':\n",
    "    main()"
   ]
  },
  {
   "cell_type": "code",
   "execution_count": 83,
   "metadata": {},
   "outputs": [
    {
     "name": "stdout",
     "output_type": "stream",
     "text": [
      "[6, 20, 8, 19, 56, 23, 87, 41, 53]\n",
      "[6, 8, 19, 20, 23, 56, 41, 53, 87]\n",
      "[6, 8, 19, 20, 23, 41, 53, 56, 87]\n",
      "[6, 8, 19, 20, 23, 41, 53, 56, 87]\n",
      "[6, 8, 19, 20, 23, 41, 53, 56, 87]\n",
      "[6, 8, 19, 20, 23, 41, 53, 56, 87]\n",
      "[6, 8, 19, 20, 23, 41, 53, 56, 87]\n",
      "[6, 8, 19, 20, 23, 41, 53, 56, 87]\n",
      "[6, 8, 19, 20, 23, 41, 53, 56, 87]\n",
      "Final dataset:\n",
      "[6, 8, 19, 20, 23, 41, 53, 56, 87]\n"
     ]
    }
   ],
   "source": [
    "\n",
    "def bubbleSort(dataset):\n",
    "    \n",
    "    print(dataset)\n",
    "    for i in range(len(dataset)-1, 0, -1):\n",
    "        for j in range(i):\n",
    "            if(dataset[j] > dataset[j+1]):\n",
    "                temp = dataset[j]\n",
    "                dataset[j] = dataset[j+1]\n",
    "                dataset[j+1] = temp\n",
    "        print(dataset)\n",
    "    return dataset\n",
    "\n",
    "def main():\n",
    "    list1 = [6, 20, 8, 19, 56, 23, 87, 41, 53]\n",
    "    print(f'Final dataset:\\n{bubbleSort(list1)}')\n",
    "if __name__ == '__main__':\n",
    "    main()"
   ]
  },
  {
   "cell_type": "code",
   "execution_count": 144,
   "metadata": {},
   "outputs": [
    {
     "name": "stdout",
     "output_type": "stream",
     "text": [
      "Final dataset:\n",
      "[6, 8, 19, 20, 23, 41, 53, 56, 87]\n"
     ]
    }
   ],
   "source": [
    "# Merge Sort is divide and conquer algorithm and breaks down datasets \n",
    "# into smaller ones and merges them. Performs well on larger data sets\n",
    "\n",
    "\n",
    "def mergeSort(dataset):\n",
    "    \n",
    "    if len(dataset) > 1: # when len reaches one it return \n",
    "        #and executes the rest with that 1\n",
    "        mid = len(dataset)//2\n",
    "        left_arr = dataset[:mid]\n",
    "        right_arr = dataset[mid:]\n",
    "        \n",
    "        mergeSort(left_arr)\n",
    "        mergeSort(right_arr)\n",
    "        \n",
    "        i, j, k = 0, 0, 0\n",
    "        while i < len(left_arr) and j < len(right_arr):\n",
    "            if left_arr[i] < right_arr[j]:\n",
    "                dataset[k] = left_arr[i]\n",
    "                i += 1\n",
    "            else:\n",
    "                dataset[k] = right_arr[j]\n",
    "                j += 1\n",
    "            k += 1\n",
    "            \n",
    "        while i < len(left_arr):\n",
    "            dataset[k] = left_arr[i]\n",
    "            i += 1\n",
    "            k += 1\n",
    "                \n",
    "        while j < len(right_arr):\n",
    "            dataset[k] = right_arr[j]\n",
    "            j += 1\n",
    "            k += 1\n",
    "    \n",
    "    return dataset\n",
    "\n",
    "\n",
    "def main():\n",
    "    list1 = [6, 20, 8, 19, 56, 23, 87, 41, 53]\n",
    "    print(f'Final dataset:\\n{mergeSort(list1)}')\n",
    "\n",
    "if __name__ == '__main__':\n",
    "    main()\n"
   ]
  },
  {
   "cell_type": "code",
   "execution_count": 148,
   "metadata": {},
   "outputs": [
    {
     "name": "stdout",
     "output_type": "stream",
     "text": [
      "Final dataset:\n",
      "[6, 8, 19, 20, 23, 41, 53, 56, 87]\n"
     ]
    }
   ],
   "source": [
    "# Quick Sort\n",
    "# Pick Pivot position \n",
    "\n",
    "def quickSort(dataset, first, last):\n",
    "    if first < last:\n",
    "        pivotIdx = partition(dataset, first, last)\n",
    "\n",
    "        quickSort(dataset, first, pivotIdx-1)\n",
    "        quickSort(dataset, pivotIdx+1, last)\n",
    "        \n",
    "        return dataset\n",
    "    \n",
    "\n",
    "def partition(dataset, first, last):\n",
    "    # set pivot value at start of list\n",
    "    pivotvalue = dataset[first]\n",
    "    # set lower to the one after\n",
    "    lower = first + 1\n",
    "    # set upper to right after\n",
    "    upper = last\n",
    "    \n",
    "    done = False\n",
    "    \n",
    "    # upper will be less than lower ones properly split\n",
    "    while not done:\n",
    "        while lower <= upper and dataset[lower] <= pivotvalue:\n",
    "            lower += 1\n",
    "        while lower <= upper and dataset[upper] >= pivotvalue:\n",
    "            upper -= 1\n",
    "        \n",
    "        # if split properly\n",
    "        if upper < lower:\n",
    "            done = True\n",
    "        # else switch values\n",
    "        else:\n",
    "            temp = dataset[lower]\n",
    "            dataset[lower] = dataset[upper]\n",
    "            dataset [upper] = temp\n",
    "    \n",
    "    # switch the pivot with the center\n",
    "    temp = dataset[first]\n",
    "    dataset[first] = dataset[upper]\n",
    "    dataset[upper] = temp\n",
    "    \n",
    "    return upper\n",
    "    \n",
    "\n",
    "def main():\n",
    "    list1 = [6, 20, 8, 19, 56, 23, 87, 41, 53]\n",
    "    print(f'Final dataset:\\n{quickSort(list1, 0, len(list1)-1)}')\n",
    "\n",
    "if __name__ == '__main__':\n",
    "    main()"
   ]
  },
  {
   "cell_type": "code",
   "execution_count": 157,
   "metadata": {},
   "outputs": [
    {
     "name": "stdout",
     "output_type": "stream",
     "text": [
      "Item is in: None\n"
     ]
    }
   ],
   "source": [
    "# Search for data\n",
    "\n",
    "def find_item(item, itemList):\n",
    "    for i in range(0, len(itemList)):\n",
    "        if item == itemList[i]:\n",
    "            return i\n",
    "    return None\n",
    "\n",
    "def main():\n",
    "    item = 9\n",
    "    \n",
    "    list1 = [6, 20, 8, 19, 56, 23, 87, 41, 53]\n",
    "    print(f'Item is in: {find_item(item, list1)}')\n",
    "\n",
    "if __name__ == '__main__':\n",
    "    main()"
   ]
  },
  {
   "cell_type": "code",
   "execution_count": 1,
   "metadata": {},
   "outputs": [
    {
     "name": "stdout",
     "output_type": "stream",
     "text": [
      "Item is in: 1\n"
     ]
    }
   ],
   "source": [
    "# Binary Search\n",
    "\n",
    "def binarysearch(item, itemList):\n",
    "    listsize = len(itemList) - 1\n",
    "    lowerIdx = 0\n",
    "    upperIdx = listsize\n",
    "    \n",
    "    while lowerIdx <= upperIdx:\n",
    "        pass\n",
    "        midPt = (lowerIdx + upperIdx) // 2\n",
    "\n",
    "        if itemList[midPt] == item:\n",
    "            return midPt\n",
    "\n",
    "        if item > itemList[midPt]:\n",
    "            lowerIdx = midPt + 1\n",
    "        else:\n",
    "            upperIdx = midPt - 1\n",
    "    \n",
    "    if lowerIdx > upperIdx:\n",
    "        return None\n",
    "\n",
    "def main():\n",
    "    item = 20\n",
    "    list1 = [6, 20, 8, 19, 56, 23, 87, 41, 53]\n",
    "    print(f'Item is in: {binarysearch(item, list1)}')\n",
    "\n",
    "    \n",
    "if __name__ == '__main__':\n",
    "    main()"
   ]
  },
  {
   "cell_type": "code",
   "execution_count": 7,
   "metadata": {},
   "outputs": [
    {
     "name": "stdout",
     "output_type": "stream",
     "text": [
      "Item is in: False\n",
      "Item is in: True\n"
     ]
    }
   ],
   "source": [
    "# Determine if list is sorted\n",
    "\n",
    "def is_sorted(dataset):\n",
    "#     for i in range(len(dataset)-1):\n",
    "#         if dataset[i] > dataset[i+1]:\n",
    "#             return False\n",
    "#     return True\n",
    "    \n",
    "    #Pythonic solution\n",
    "    return all(dataset[i] <= dataset[i+1] for i in range(len(dataset)-1))\n",
    "\n",
    "def main():\n",
    "    list1 = [6, 20, 8, 19, 56, 23, 87, 41, 53]\n",
    "    list2 = [6, 10, 15, 17, 99, 102, 222, 909]\n",
    "    print(f'Item is in: {is_sorted(list1)}')\n",
    "    print(f'Item is in: {is_sorted(list2)}')\n",
    "    \n",
    "if __name__ == '__main__':\n",
    "    main()"
   ]
  },
  {
   "cell_type": "code",
   "execution_count": 15,
   "metadata": {},
   "outputs": [
    {
     "name": "stdout",
     "output_type": "stream",
     "text": [
      "['apple', 'pear', 'apple', 'pear', 'orange', 'orange', 'apple', 'pear', 'orange']\n"
     ]
    },
    {
     "data": {
      "text/plain": [
       "{'apple', 'orange', 'pear'}"
      ]
     },
     "execution_count": 15,
     "metadata": {},
     "output_type": "execute_result"
    }
   ],
   "source": [
    "fruits = ['apple', 'pear', 'apple', 'pear', 'orange', 'orange', 'apple', 'pear', 'orange']\n",
    "print(items)\n",
    "hashed_fruits = dict()\n",
    "for fruit in fruits:\n",
    "    hashed_fruits[fruit] = 0\n",
    "    \n",
    "hashed_fruits\n",
    "results = set(hashed_fruits.keys())\n",
    "results"
   ]
  },
  {
   "cell_type": "code",
   "execution_count": 18,
   "metadata": {},
   "outputs": [
    {
     "name": "stdout",
     "output_type": "stream",
     "text": [
      "['apple', 'pear', 'apple', 'pear', 'orange', 'orange', 'apple', 'pear', 'orange']\n"
     ]
    },
    {
     "data": {
      "text/plain": [
       "{'apple', 'orange', 'pear'}"
      ]
     },
     "execution_count": 18,
     "metadata": {},
     "output_type": "execute_result"
    }
   ],
   "source": [
    "fruits = ['apple', 'pear', 'apple', 'pear', 'orange', 'orange', 'apple', 'pear', 'orange']\n",
    "print(items)\n",
    "hashed_fruits = set()\n",
    "for fruit in fruits:\n",
    "    hashed_fruits.add(fruit)\n",
    "    \n",
    "hashed_fruits"
   ]
  },
  {
   "cell_type": "code",
   "execution_count": 27,
   "metadata": {},
   "outputs": [
    {
     "name": "stdout",
     "output_type": "stream",
     "text": [
      "['apple', 'pear', 'apple', 'pear', 'orange', 'orange', 'apple', 'pear', 'orange']\n",
      "{'apple': 3, 'pear': 2, 'orange': 3}\n",
      "dict_keys(['apple', 'pear', 'orange'])\n"
     ]
    }
   ],
   "source": [
    "fruits = ['apple', 'pear', 'apple', 'orange', 'orange', 'apple', 'pear', 'orange']\n",
    "print(items)\n",
    "hashed_fruits = dict()\n",
    "for fruit in fruits:\n",
    "    if fruit in hashed_fruits.keys():\n",
    "        hashed_fruits[fruit] += 1\n",
    "    else:\n",
    "        hashed_fruits[fruit] = 1\n",
    "print(hashed_fruits)"
   ]
  },
  {
   "cell_type": "code",
   "execution_count": 59,
   "metadata": {},
   "outputs": [
    {
     "name": "stdout",
     "output_type": "stream",
     "text": [
      "Max is: 87\n"
     ]
    }
   ],
   "source": [
    "# Find max value in recursion\n",
    "\n",
    "def find_max(dataset):\n",
    "    if len(dataset) <= 1:\n",
    "        return dataset[0]\n",
    "    \n",
    "    # Assigns first item of the slice \n",
    "    op1 = dataset[0]\n",
    "    # Returns next item of the slice\n",
    "    op2 = find_max(dataset[1:])\n",
    "\n",
    "    if op1 > op2:\n",
    "        return op1\n",
    "    else:\n",
    "        return op2\n",
    "\n",
    "def main():\n",
    "    list1 = [6, 20, 8, 19, 56, 23, 87, 41, 53]\n",
    "    list2 = [6, 10, 15, 17, 99, 102, 222, 909]\n",
    "    print(f'Max is: {find_max(list1)}')\n",
    "#    print(f'Item is in: {is_sorted(list2)}')\n",
    "    \n",
    "if __name__ == '__main__':\n",
    "    main()"
   ]
  },
  {
   "cell_type": "code",
   "execution_count": null,
   "metadata": {},
   "outputs": [],
   "source": []
  }
 ],
 "metadata": {
  "kernelspec": {
   "display_name": "Python 3",
   "language": "python",
   "name": "python3"
  },
  "language_info": {
   "codemirror_mode": {
    "name": "ipython",
    "version": 3
   },
   "file_extension": ".py",
   "mimetype": "text/x-python",
   "name": "python",
   "nbconvert_exporter": "python",
   "pygments_lexer": "ipython3",
   "version": "3.7.6"
  }
 },
 "nbformat": 4,
 "nbformat_minor": 4
}
