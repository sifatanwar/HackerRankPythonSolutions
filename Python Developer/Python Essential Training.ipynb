{
 "cells": [
  {
   "cell_type": "code",
   "execution_count": 6,
   "metadata": {},
   "outputs": [
    {
     "name": "stdout",
     "output_type": "stream",
     "text": [
      "This is python version 3.7.6\n"
     ]
    }
   ],
   "source": [
    "import platform\n",
    "\n",
    "def main():\n",
    "    message()\n",
    "\n",
    "def message():\n",
    "    print('This is python version {}'.format(platform.python_version()))\n",
    "\n",
    "if __name__ == \"__main__\": main()"
   ]
  },
  {
   "cell_type": "code",
   "execution_count": null,
   "metadata": {},
   "outputs": [],
   "source": []
  },
  {
   "cell_type": "code",
   "execution_count": null,
   "metadata": {},
   "outputs": [],
   "source": [
    "# Anything that return a value is an expression\n",
    "x = y # Assignment\n",
    "x * y # Operation\n",
    "(x, y) # Aggregate\n",
    "x # Simple\n",
    "True # Built in constant value\n",
    "f() # Function call, absense of value"
   ]
  },
  {
   "cell_type": "code",
   "execution_count": 10,
   "metadata": {},
   "outputs": [
    {
     "name": "stdout",
     "output_type": "stream",
     "text": [
      "Quaaack!\n",
      "Walking like a duck.\n"
     ]
    }
   ],
   "source": [
    "class Duck:\n",
    "    sound = 'Quaaack!'\n",
    "    walking = 'Walking like a duck.'\n",
    "    \n",
    "    def quack(self):\n",
    "        print(self.sound)\n",
    "    \n",
    "    def walk(self):\n",
    "        print(self.walking)\n",
    "        \n",
    "def main():\n",
    "    donald = Duck()\n",
    "    donald.quack()\n",
    "    donald.walk()\n",
    "    \n",
    "if __name__ == '__main__': main()"
   ]
  },
  {
   "cell_type": "code",
   "execution_count": 20,
   "metadata": {},
   "outputs": [
    {
     "name": "stdout",
     "output_type": "stream",
     "text": [
      "seven \"9        \" \"000000008\"\n"
     ]
    }
   ],
   "source": [
    "x = 'seven \"{1:<9}\" \"{0:>09}\"'.format(8,9)\n",
    "print(x)"
   ]
  },
  {
   "cell_type": "code",
   "execution_count": 26,
   "metadata": {},
   "outputs": [
    {
     "name": "stdout",
     "output_type": "stream",
     "text": [
      "5.551115123125783e-17\n",
      "0.000\n"
     ]
    }
   ],
   "source": [
    "x = 0.1 + 0.1 + 0.1 - 0.3\n",
    "print(x)\n",
    "\n",
    "from decimal import Decimal\n",
    "a = Decimal('0.100')\n",
    "b = Decimal('0.300')\n",
    "x = a + a + a - b\n",
    "print(x)"
   ]
  }
 ],
 "metadata": {
  "kernelspec": {
   "display_name": "Python 3",
   "language": "python",
   "name": "python3"
  },
  "language_info": {
   "codemirror_mode": {
    "name": "ipython",
    "version": 3
   },
   "file_extension": ".py",
   "mimetype": "text/x-python",
   "name": "python",
   "nbconvert_exporter": "python",
   "pygments_lexer": "ipython3",
   "version": "3.7.6"
  }
 },
 "nbformat": 4,
 "nbformat_minor": 4
}
