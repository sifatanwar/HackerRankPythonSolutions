{
 "cells": [
  {
   "cell_type": "code",
   "execution_count": 8,
   "metadata": {},
   "outputs": [
    {
     "name": "stdout",
     "output_type": "stream",
     "text": [
      "[7, 22, 4.5, 99.7, '3', '5']\n",
      "[7, 22, 4, 99, 3, 5]\n",
      "['Adam', 'Anne', 'Barry', 'Brianne', 'Chad']\n",
      "['ADAM', 'ANNE', 'BARRY', 'BRIANNE', 'CHAD']\n"
     ]
    }
   ],
   "source": [
    "# Generator function\n",
    "\n",
    "# Using yield instead of return allows the information not to be stored\n",
    "# in memory\n",
    "\n",
    "numbers = [7, 22, 4.5, 99.7, '3', '5']\n",
    "print(numbers)\n",
    "integers = (int(i) for i in numbers)\n",
    "print(list(integers))\n",
    "\n",
    "\n",
    "names_list = ['Adam', 'Anne', 'Barry', 'Brianne', 'Chad']\n",
    "print(names_list)\n",
    "uppername_names = (name.upper() for name in names_list)\n",
    "print(list(uppername_names))"
   ]
  },
  {
   "cell_type": "code",
   "execution_count": 25,
   "metadata": {},
   "outputs": [],
   "source": [
    "def even_integers_generation(n):\n",
    "    for i in range(n):\n",
    "        if i%2 == 0:\n",
    "            yield i\n",
    "            \n",
    "n = 10\n",
    "integers = even_integers_generation(n)"
   ]
  },
  {
   "cell_type": "code",
   "execution_count": 26,
   "metadata": {},
   "outputs": [
    {
     "data": {
      "text/plain": [
       "0"
      ]
     },
     "execution_count": 26,
     "metadata": {},
     "output_type": "execute_result"
    }
   ],
   "source": [
    "next(integers)"
   ]
  },
  {
   "cell_type": "code",
   "execution_count": 65,
   "metadata": {},
   "outputs": [
    {
     "name": "stdout",
     "output_type": "stream",
     "text": [
      "0\n",
      "1\n",
      "1\n",
      "2\n",
      "3\n",
      "5\n",
      "8\n",
      "13\n",
      "21\n",
      "34\n"
     ]
    }
   ],
   "source": [
    "def fibonacci_sequence(n):\n",
    "    if n <= 1:\n",
    "        return n\n",
    "    else:\n",
    "        return (fibonacci_sequence(n-1) + fibonacci_sequence(n-2))\n",
    "    \n",
    "def main():\n",
    "    \n",
    "        for i in range(10):\n",
    "            print(fibonacci_sequence(i))\n",
    "\n",
    "if __name__ == '__main__':\n",
    "    main()"
   ]
  },
  {
   "cell_type": "code",
   "execution_count": 6,
   "metadata": {},
   "outputs": [
    {
     "name": "stdout",
     "output_type": "stream",
     "text": [
      "1\n",
      "1\n",
      "2\n",
      "3\n",
      "5\n",
      "8\n",
      "13\n",
      "21\n",
      "34\n",
      "55\n"
     ]
    }
   ],
   "source": [
    "def fibonacci_sequence():\n",
    "    trail, lead = 0, 1\n",
    "    while True:\n",
    "        yield lead\n",
    "        trail, lead = lead, trail + lead\n",
    "fib = fibonacci_sequence()\n",
    "\n",
    "for _ in range(10):\n",
    "    print(next(fib))"
   ]
  },
  {
   "cell_type": "code",
   "execution_count": 8,
   "metadata": {},
   "outputs": [
    {
     "name": "stdout",
     "output_type": "stream",
     "text": [
      "logfile created\n"
     ]
    }
   ],
   "source": [
    "# Basic Context Manager Framework\n",
    "from time import time\n",
    "from contextlib import contextmanager\n",
    "\n",
    "HEADER = \"this is the header \\n\"\n",
    "FOOTER = \"\\nthis is the footer \\n\"\n",
    "\n",
    "\"\"\"\n",
    "@contextmanager\n",
    "def simple_context_manager(obj):\n",
    "    try:\n",
    "        # do something\n",
    "        obj.some_property += 1\n",
    "        yield\n",
    "    finally:\n",
    "        # wrap up\n",
    "        obj.some_property -= 1\n",
    "\n",
    "class Some_obj(object):\n",
    "    def __init__(self, arg):\n",
    "        self.some_property = arg\n",
    "\"\"\"\n",
    "\n",
    "@contextmanager\n",
    "def new_log_file(name):\n",
    "    try:\n",
    "        logname = name\n",
    "        f = open(logname, 'w')\n",
    "        f.write(HEADER)\n",
    "        yield f\n",
    "    finally:\n",
    "        f.write(FOOTER)\n",
    "        print(\"logfile created\")\n",
    "        f.close()\n",
    "        \n",
    "with new_log_file('logfile') as file:\n",
    "    file.write('this is the body')\n",
    "\n"
   ]
  },
  {
   "cell_type": "code",
   "execution_count": 12,
   "metadata": {},
   "outputs": [
    {
     "name": "stdout",
     "output_type": "stream",
     "text": [
      "10\n"
     ]
    }
   ],
   "source": [
    "# Coroutine\n",
    "# Coroutine are not for returning\n",
    "\n",
    "def coroutine_example():\n",
    "    while True:\n",
    "        x = yield\n",
    "        # do something with x\n",
    "        print(x)\n",
    "        \n",
    "c = coroutine_example()\n",
    "next(c)\n",
    "c.send(10)"
   ]
  },
  {
   "cell_type": "code",
   "execution_count": 4,
   "metadata": {},
   "outputs": [
    {
     "name": "stdout",
     "output_type": "stream",
     "text": [
      "Cook\n",
      "ook\n",
      "No Match\n",
      "ooki\n",
      "Not a string\n",
      "3\n"
     ]
    }
   ],
   "source": [
    "def counter(string):\n",
    "    count = 0\n",
    "    try:\n",
    "        while True:\n",
    "            item = yield\n",
    "            if isinstance(item, str):\n",
    "                if item in string:\n",
    "                    count += 1\n",
    "                    print(item)\n",
    "                else:\n",
    "                    print('No Match')\n",
    "            else:\n",
    "                print('Not a string')\n",
    "    except GeneratorExit:\n",
    "        print(count)\n",
    "        \n",
    "c = counter('Cookie')\n",
    "next(c)\n",
    "c.send('Cook')\n",
    "c.send('ook')\n",
    "c.send('ookI')\n",
    "c.send('ooki')\n",
    "c.send(123)\n",
    "c.close()"
   ]
  },
  {
   "cell_type": "code",
   "execution_count": 5,
   "metadata": {},
   "outputs": [
    {
     "ename": "SyntaxError",
     "evalue": "Missing parentheses in call to 'print'. Did you mean print('one file created')? (<ipython-input-5-58c3fbeb8383>, line 24)",
     "output_type": "error",
     "traceback": [
      "\u001b[1;36m  File \u001b[1;32m\"<ipython-input-5-58c3fbeb8383>\"\u001b[1;36m, line \u001b[1;32m24\u001b[0m\n\u001b[1;33m    print 'one file created'\u001b[0m\n\u001b[1;37m                           ^\u001b[0m\n\u001b[1;31mSyntaxError\u001b[0m\u001b[1;31m:\u001b[0m Missing parentheses in call to 'print'. Did you mean print('one file created')?\n"
     ]
    }
   ],
   "source": [
    "from coroutine_decorator import coroutine_decorator\n",
    "\n",
    "@coroutine_decorator\n",
    "def router():\n",
    "    try:\n",
    "        while True:\n",
    "            line = yield\n",
    "            (first, last) = line.split(' ')\n",
    "            fnames.send(first)\n",
    "            lnames.send(last.strip())\n",
    "    except GeneratorExit:\n",
    "        fnames.close()\n",
    "        lnames.close()\n",
    "        \n",
    "@coroutine_decorator\n",
    "def file_write(filename):\n",
    "    try:\n",
    "        with open(filename, 'a') as file:\n",
    "            while True:\n",
    "                line = yield\n",
    "                file.write(line+'\\n')\n",
    "    except GeneratorExit:\n",
    "        file.close()\n",
    "        print 'one file created'\n",
    "        \n",
    "if __name__ == \"__main__\":\n",
    "    fname = file_write('firstnames.txt')\n",
    "    lname = file_write('lastnames.txt') \n",
    "    router = router()\n",
    "    for name in open('names.txt'):\n",
    "        router.send(name)\n",
    "    router.close()\n",
    "                "
   ]
  },
  {
   "cell_type": "code",
   "execution_count": null,
   "metadata": {},
   "outputs": [],
   "source": []
  }
 ],
 "metadata": {
  "kernelspec": {
   "display_name": "Python 3",
   "language": "python",
   "name": "python3"
  },
  "language_info": {
   "codemirror_mode": {
    "name": "ipython",
    "version": 3
   },
   "file_extension": ".py",
   "mimetype": "text/x-python",
   "name": "python",
   "nbconvert_exporter": "python",
   "pygments_lexer": "ipython3",
   "version": "3.7.6"
  }
 },
 "nbformat": 4,
 "nbformat_minor": 4
}
