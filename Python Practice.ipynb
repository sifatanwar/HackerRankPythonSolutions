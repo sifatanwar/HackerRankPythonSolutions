{
 "cells": [
  {
   "cell_type": "code",
   "execution_count": 2,
   "metadata": {},
   "outputs": [
    {
     "name": "stdout",
     "output_type": "stream",
     "text": [
      "[6, 5, 10]\n",
      "[1, 5, 9, 10]\n",
      "[9, 5, 1]\n"
     ]
    }
   ],
   "source": [
    "if __name__ == '__main__':\n",
    "    dummy_list = []    \n",
    "    with open(\"list_rep.txt\", \"r\") as commands:\n",
    "        N = commands.readline()\n",
    "        for _ in range(int(N)):\n",
    "            command = commands.readline()\n",
    "            command = (command.strip()).split()\n",
    "            if command[0] == 'insert':\n",
    "                dummy_list.insert(int(command[1]), int(command[2]))\n",
    "            elif command[0] == 'print':\n",
    "                print(dummy_list)\n",
    "            elif command[0] == 'remove':\n",
    "                dummy_list.remove(int(command[1]))\n",
    "            elif command[0] == 'append':\n",
    "                dummy_list.append(int(command[1]))\n",
    "            elif command[0] == 'sort':\n",
    "                dummy_list.sort()\n",
    "            elif command[0] == 'pop':\n",
    "                dummy_list.pop()\n",
    "            elif command[0] == 'reverse':\n",
    "                dummy_list.reverse()\n",
    "            else:\n",
    "                print('Error in input!')"
   ]
  },
  {
   "cell_type": "code",
   "execution_count": 59,
   "metadata": {},
   "outputs": [
    {
     "name": "stdout",
     "output_type": "stream",
     "text": [
      "[6, 5, 10]\n",
      "[1, 5, 9, 10]\n",
      "[9, 5, 1]\n"
     ]
    }
   ],
   "source": [
    "if __name__ == '__main__':\n",
    "    dummy_list = []    \n",
    "    with open(\"list_rep.txt\", \"r\") as commands:\n",
    "        N = commands.readline()\n",
    "        for _ in range(int(N)):\n",
    "            command = commands.readline()\n",
    "            command = (command.strip()).split()\n",
    "            cmd = command[0]\n",
    "            args = command[1:]\n",
    "            if cmd != 'print':\n",
    "                cmd += '(' + ','.join(args) + ')'\n",
    "                eval('dummy_list.' + cmd)\n",
    "            else:\n",
    "                print(dummy_list)"
   ]
  },
  {
   "cell_type": "code",
   "execution_count": 69,
   "metadata": {},
   "outputs": [
    {
     "name": "stdout",
     "output_type": "stream",
     "text": [
      "1\n",
      "1 2\n",
      "3713081631934410656\n"
     ]
    }
   ],
   "source": [
    "if __name__ == '__main__':\n",
    "    n = int(input())\n",
    "    integer_list = map(int, input().split())\n",
    "    print(hash(tuple(integer_list)))"
   ]
  },
  {
   "cell_type": "code",
   "execution_count": 10,
   "metadata": {},
   "outputs": [
    {
     "name": "stdout",
     "output_type": "stream",
     "text": [
      "hACKERrANK.COM PRESENTS \"pYTHONIST 2\".\n"
     ]
    }
   ],
   "source": [
    "def swap_case(s):\n",
    "    string = []\n",
    "    for i in s:\n",
    "        if i.isupper(): string.append(i.lower())\n",
    "        elif i.islower(): string.append(i.upper())\n",
    "        else: string.append(i)\n",
    "    return str(''.join(string))\n",
    "\n",
    "if __name__ == '__main__':\n",
    "    s = 'HackerRank.com presents \"Pythonist 2\".'\n",
    "    result = swap_case(s)\n",
    "    print(result)"
   ]
  },
  {
   "cell_type": "code",
   "execution_count": 19,
   "metadata": {},
   "outputs": [
    {
     "name": "stdout",
     "output_type": "stream",
     "text": [
      "hACKERrANK.COM PRESENTS \"pYTHONIST 2\".\n"
     ]
    }
   ],
   "source": [
    "def swap_case(s):\n",
    "    #[a if condition else b] -- ternary operator\n",
    "    string = []\n",
    "    string = ''.join([i.lower() if i.isupper() else i.upper() for i in s])\n",
    "    return string\n",
    "\n",
    "if __name__ == '__main__':\n",
    "    s = 'HackerRank.com presents \"Pythonist 2\".'\n",
    "    result = swap_case(s)\n",
    "    print(result)"
   ]
  },
  {
   "cell_type": "code",
   "execution_count": 28,
   "metadata": {},
   "outputs": [
    {
     "name": "stdout",
     "output_type": "stream",
     "text": [
      "this-is-a-string\n"
     ]
    }
   ],
   "source": [
    "#1 4:55- 5:04\n",
    "'''\n",
    "def split_and_join(s):\n",
    "    string = s.split(' ')\n",
    "    string = '-'.join(string)\n",
    "    return string\n",
    "'''\n",
    "\n",
    "'''\n",
    "def split_and_join(s):\n",
    "    return s.replace(' ', '-')\n",
    "'''\n",
    "\n",
    "def split_and_join(s):\n",
    "    return '-'.join(s.split(' '))\n",
    "\n",
    "if __name__ == '__main__':\n",
    "    s = 'this is a string'\n",
    "    print(split_and_join(s))"
   ]
  },
  {
   "cell_type": "code",
   "execution_count": 38,
   "metadata": {
    "scrolled": true
   },
   "outputs": [
    {
     "name": "stdout",
     "output_type": "stream",
     "text": [
      "\n",
      "\n",
      "Hello  ! You just delved into python.\n"
     ]
    }
   ],
   "source": [
    "#2 \n",
    "def print_full_name(a, b):\n",
    "    '''\n",
    "    return 'Hello ' + a + ' ' + b + '! You just delved into python.'\n",
    "    '''\n",
    "    '''\n",
    "    return 'Hello {0} {1}! You just delved into python.'.format(a, b)\n",
    "    '''\n",
    "    return 'Hello %s %s! You just delved into python.' % (a, b)\n",
    "\n",
    "if __name__ == '__main__':\n",
    "        a = input()\n",
    "        b = input()\n",
    "        print(print_full_name(a, b))\n"
   ]
  },
  {
   "cell_type": "code",
   "execution_count": 50,
   "metadata": {},
   "outputs": [
    {
     "name": "stdout",
     "output_type": "stream",
     "text": [
      "abrackdabra\n"
     ]
    }
   ],
   "source": [
    "#3 9:38-9:50\n",
    "\n",
    "def mutate_string(string, position, character):\n",
    "    '''\n",
    "    string = list(string)\n",
    "    string[position] = character\n",
    "    return ''.join(string)\n",
    "    '''\n",
    "    return string[:position] + character + string[position+1:]\n",
    "\n",
    "if __name__ == '__main__':\n",
    "    string = 'abracadabra'\n",
    "    position = 5\n",
    "    character = 'k'\n",
    "    print(mutate_string(string, position, character))\n",
    "    "
   ]
  },
  {
   "cell_type": "code",
   "execution_count": 92,
   "metadata": {},
   "outputs": [
    {
     "name": "stdout",
     "output_type": "stream",
     "text": [
      "2\n"
     ]
    }
   ],
   "source": [
    "#4 9:50-10:20\n",
    "def count_substring(string, sub_string):\n",
    "    '''\n",
    "    leng = len(sub_string)\n",
    "    count = 0\n",
    "    for i in range(len(string)):\n",
    "        if(string[i:leng+i] == sub_string):\n",
    "            count+=1\n",
    "    return count\n",
    "    '''\n",
    "    '''\n",
    "    return sum(1 if(string[i:len(sub_string)+i] == sub_string) else 0 for i in range(len(string)))\n",
    "    '''\n",
    "    return sum(string[i:len(sub_string)+i] == sub_string for i in range(len(string)))\n",
    "\n",
    "    \n",
    "if __name__ == '__main__':\n",
    "    string = 'ABCDCDC'\n",
    "    sub_string = 'CDC'\n",
    "    print(count_substring(string, sub_string))"
   ]
  },
  {
   "cell_type": "code",
   "execution_count": 176,
   "metadata": {},
   "outputs": [
    {
     "name": "stdout",
     "output_type": "stream",
     "text": [
      "dw2\n",
      "True\n",
      "True\n",
      "True\n",
      "True\n",
      "False\n",
      "<generator object <genexpr> at 0x000001F470F01DC8>\n"
     ]
    }
   ],
   "source": [
    "#5 10:25\n",
    "\n",
    "if __name__ == '__main__':\n",
    "    string = input()\n",
    "    '''\n",
    "    print(any(i.isalnum() for i in string))\n",
    "    print(any(i.isalpha() for i in string))\n",
    "    print(any(i.isdigit() for i in string))\n",
    "    print(any(i.islower() for i in string))\n",
    "    print(any(i.isupper() for i in string))\n",
    "    '''\n",
    "    list_seq = ['.isalnum()','.isalpha()','.isdigit()','.islower()','.isupper()']\n",
    "    [print(any(eval('i'+func) for i in string)) for func in list_seq]"
   ]
  },
  {
   "cell_type": "code",
   "execution_count": 154,
   "metadata": {},
   "outputs": [
    {
     "name": "stdout",
     "output_type": "stream",
     "text": [
      "    H    \n",
      "   HHH   \n",
      "  HHHHH  \n",
      " HHHHHHH \n",
      "HHHHHHHHH\n",
      "  HHHHH               HHHHH             \n",
      "  HHHHH               HHHHH             \n",
      "  HHHHH               HHHHH             \n",
      "  HHHHH               HHHHH             \n",
      "  HHHHH               HHHHH             \n",
      "  HHHHH               HHHHH             \n",
      "  HHHHHHHHHHHHHHHHHHHHHHHHH   \n",
      "  HHHHHHHHHHHHHHHHHHHHHHHHH   \n",
      "  HHHHHHHHHHHHHHHHHHHHHHHHH   \n",
      "  HHHHH               HHHHH             \n",
      "  HHHHH               HHHHH             \n",
      "  HHHHH               HHHHH             \n",
      "  HHHHH               HHHHH             \n",
      "  HHHHH               HHHHH             \n",
      "  HHHHH               HHHHH             \n",
      "                    HHHHHHHHH \n",
      "                     HHHHHHH  \n",
      "                      HHHHH   \n",
      "                       HHH    \n",
      "                        H     \n"
     ]
    }
   ],
   "source": [
    "#6 11:11-11:23b\n",
    "\n",
    "#Replace all ______ with rjust, ljust or center. \n",
    "\n",
    "#thickness = int(input()) #This must be an odd number\n",
    "thickness = 5\n",
    "c = 'H'\n",
    "\n",
    "#Top Cone\n",
    "for i in range(thickness):\n",
    "    print((c*i).rjust(thickness-1)+c+(c*i).ljust(thickness-1))\n",
    "\n",
    "#Top Pillars\n",
    "for i in range(thickness+1):\n",
    "    print((c*thickness).center(thickness*2)+(c*thickness).center(thickness*6))\n",
    "\n",
    "#Middle Belt\n",
    "for i in range((thickness+1)//2):\n",
    "    print((c*thickness*5).center(thickness*6))    \n",
    "\n",
    "#Bottom Pillars\n",
    "for i in range(thickness+1):\n",
    "    print((c*thickness).center(thickness*2)+(c*thickness).center(thickness*6))    \n",
    "\n",
    "#Bottom Cone\n",
    "for i in range(thickness):\n",
    "    print(((c*(thickness-i-1)).rjust(thickness)+c+(c*(thickness-i-1)).ljust(thickness)).rjust(thickness*6))\n"
   ]
  },
  {
   "cell_type": "code",
   "execution_count": 171,
   "metadata": {},
   "outputs": [
    {
     "name": "stdout",
     "output_type": "stream",
     "text": [
      "ABCD\n",
      "EFGH\n",
      "IJKL\n",
      "IMNO\n",
      "QRST\n",
      "UVWX\n",
      "YZ\n"
     ]
    }
   ],
   "source": [
    "#7 11:27-11:46\n",
    "'''\n",
    "import textwrap\n",
    "\n",
    "def wrap(string, max_width):\n",
    "    wrapper = textwrap.TextWrapper(width=max_width)\n",
    "    return '\\n'.join(wrapper.wrap(text=string))\n",
    "'''\n",
    "def wrap(string, max_width):\n",
    "    return '\\n'.join(string[i:i+max_width] for i in range(0,len(string),max_width))\n",
    "\n",
    "if __name__ == '__main__':\n",
    "    string, max_width = 'ABCDEFGHIJKLIMNOQRSTUVWXYZ', 4\n",
    "    result = wrap(string, max_width)\n",
    "    print(result)"
   ]
  },
  {
   "cell_type": "code",
   "execution_count": 284,
   "metadata": {},
   "outputs": [
    {
     "name": "stdout",
     "output_type": "stream",
     "text": [
      "---------.|.---------\n",
      "------.|..|..|.------\n",
      "---.|..|..|..|..|.---\n",
      "-------WELCOME-------\n",
      "---.|..|..|..|..|.---\n",
      "------.|..|..|.------\n",
      "---------.|.---------\n"
     ]
    }
   ],
   "source": [
    "#8 -1:16\n",
    "import math\n",
    "if __name__ == '__main__':\n",
    "    y, x = map(int, '7 21'.split())\n",
    "    if(x==3*y):\n",
    "        design = '.|.'\n",
    "        '''\n",
    "        des_len = int((x-3)/2)\n",
    "        #print(type(y), type(x))\n",
    "        \n",
    "        [print((design*i).rjust(des_len, '-') + design + (design*i).ljust(des_len, '-')) for i in range(0, int(y/2), 1)]\n",
    "        print('WELCOME'.center(x,'-'))\n",
    "        [print((design*i).rjust(des_len, '-') + design + (design*i).ljust(des_len, '-')) for i in range(int(y/2)-1, -1, -1)]\n",
    "        '''\n",
    "        \n",
    "        pattern = [(design*(2*i+1)).center(x, '-') for i in range(y//2)]\n",
    "        print('\\n'.join(pattern + ['WELCOME'.center(x,'-')] + pattern[::-1]))"
   ]
  },
  {
   "cell_type": "code",
   "execution_count": 361,
   "metadata": {},
   "outputs": [
    {
     "name": "stdout",
     "output_type": "stream",
     "text": [
      " 1  1  1  1\n",
      " 2  2  2 10\n"
     ]
    }
   ],
   "source": [
    "#9\n",
    "def print_formatted(number):\n",
    "    # your code goes here\n",
    "    #[print('{0:>{num}} {1:>{num}} {2:>{num}} {3:>{num}}'.format(i, oct(i)[2:], hex(i)[2:], bin(i)[2:], num=len(bin(number)[2:]))) for i in range(1,number+1)]\n",
    "    [print('{0:{num}d} {0:{num}o} {0:{num}X} {0:{num}b}'.format(i, num=len('{0:b}'.format(number)))) for i in range(1, number+1)]\n",
    "    \n",
    "if __name__ == '__main__':\n",
    "    n = 2\n",
    "    print_formatted(n)\n",
    "    \n",
    "    "
   ]
  },
  {
   "cell_type": "code",
   "execution_count": 464,
   "metadata": {},
   "outputs": [
    {
     "name": "stdout",
     "output_type": "stream",
     "text": [
      "--------e--------\n",
      "------e-d-e------\n",
      "----e-d-c-d-e----\n",
      "--e-d-c-b-c-d-e--\n",
      "e-d-c-b-a-b-c-d-e\n",
      "--e-d-c-b-c-d-e--\n",
      "----e-d-c-d-e----\n",
      "------e-d-e------\n",
      "--------e--------\n"
     ]
    }
   ],
   "source": [
    "#10\n",
    "def print_rangoli(size):\n",
    "    '''\n",
    "    string = 'abcdefghijklmnopqrstuvwxyz'\n",
    "    width = size*4 - 3\n",
    "    [print('-'.join(string[size-1:size-i-1:-1]+string[size-i-1:size:1]).center(width,'-')) for i in range(size)]\n",
    "    [print('-'.join(string[size-1:i:-1]+string[i:size:1]).center(width,'-')) for i in range(1,size)]\n",
    "    '''\n",
    "    string, width = 'abcdefghijklmnopqrstuvwxyz', (size*4 - 3)\n",
    "    [print('-'.join(string[size-1:abs(i):-1] + string[abs(i):size]).center(width,'-')) for i in range(size-1, -size, -1)]\n",
    "    #range controls 1. the number of rows 2. value of i 3. which character is printed\n",
    "    #substring dictates the set of chars printed\n",
    "    \n",
    "if __name__ == '__main__':\n",
    "    n = 5\n",
    "    print_rangoli(n)"
   ]
  },
  {
   "cell_type": "code",
   "execution_count": 502,
   "metadata": {},
   "outputs": [
    {
     "name": "stdout",
     "output_type": "stream",
     "text": [
      "FHEMDGVUAKLOIBPYJRWSTXCQZN\n",
      "TZKMOSPADWFIBJNHCYXQRLVEGU\n"
     ]
    }
   ],
   "source": [
    "from collections import OrderedDict\n",
    "\n",
    "def merge_the_tools(string, k):\n",
    "    n = len(string)\n",
    "    div = n//k\n",
    "    [print(''.join(list(OrderedDict.fromkeys(string[i:k+i])))) for i in range(0, n, k)]\n",
    "    return\n",
    "\n",
    "if __name__ == '__main__':\n",
    "    string, k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n",
    "    merge_the_tools(string, k)"
   ]
  },
  {
   "cell_type": "code",
   "execution_count": 1,
   "metadata": {},
   "outputs": [
    {
     "ename": "SyntaxError",
     "evalue": "invalid syntax (<ipython-input-1-7d13a629b650>, line 15)",
     "output_type": "error",
     "traceback": [
      "\u001b[1;36m  File \u001b[1;32m\"<ipython-input-1-7d13a629b650>\"\u001b[1;36m, line \u001b[1;32m15\u001b[0m\n\u001b[1;33m    datetime.datetime(int(t1[1]),int(t1[2]),int(t1[3])\u001b[0m\n\u001b[1;37m           ^\u001b[0m\n\u001b[1;31mSyntaxError\u001b[0m\u001b[1;31m:\u001b[0m invalid syntax\n"
     ]
    }
   ],
   "source": [
    "#!/bin/python3\n",
    "\n",
    "import math\n",
    "import os\n",
    "import random\n",
    "import re\n",
    "import sys\n",
    "import datetime\n",
    "\n",
    "# Complete the time_delta function below.\n",
    "def time_delta(t1, t2):\n",
    "    print(t1)\n",
    "    t1 = t1.split()\n",
    "    print(int(t1[1]),t1[2],int(t1[3])\n",
    "    datetime.datetime(int(t1[1]),int(t1[2]),int(t1[3])\n",
    "    return\n",
    "\n",
    "if __name__ == '__main__':\n",
    "#    fptr = open(os.environ['OUTPUT_PATH'], 'w')\n",
    "\n",
    "    t = 1\n",
    "\n",
    "    for t_itr in range(t):\n",
    "        t1 = 'Sat 02 May 2015 19:54:36 +0530'\n",
    "        t2 = 'Fri 01 May 2015 13:54:36 -0000'\n",
    "\n",
    "        delta = time_delta(t1, t2)\n",
    "\n",
    "#        fptr.write(delta + '\\n')\n",
    "\n",
    "#    fptr.close()\n"
   ]
  },
  {
   "cell_type": "code",
   "execution_count": 8,
   "metadata": {},
   "outputs": [
    {
     "name": "stdout",
     "output_type": "stream",
     "text": [
      "Hello   World  Lol\n"
     ]
    }
   ],
   "source": [
    "#1\n",
    "s = 'hello   world  lol'\n",
    "print(' '.join([i.capitalize() for i in s.split(' ')]))"
   ]
  },
  {
   "cell_type": "code",
   "execution_count": 159,
   "metadata": {},
   "outputs": [
    {
     "name": "stdout",
     "output_type": "stream",
     "text": [
      "{'Kevin': 19, 'Stuart': 17}\n",
      "Kevin 19\n"
     ]
    }
   ],
   "source": [
    "#2 6:10 - 8:55\n",
    "\n",
    "def sub_max(substring_len):\n",
    "    return int((substring_len * (substring_len+1)) / 2)\n",
    "    \n",
    "def minion_game(string):\n",
    "    string = list(string)\n",
    "    scores = {'Kevin': 0, 'Stuart': 0}\n",
    "       \n",
    "    scores['Kevin'] = sum(len(string)-i if(string[i] in list('AEIOU')) else 0 for i in range(len(string)))\n",
    "    \n",
    "    scores['Stuart'] = sub_max(len(string)) - scores['Kevin']\n",
    "    print(scores)\n",
    "    print('Draw') if scores['Stuart'] == scores['Kevin'] else print(max(scores, key=scores.get), str(scores[max(scores, key=scores.get)]))\n",
    "\n",
    "if __name__ == '__main__':\n",
    "    s = 'BAANANAS'\n",
    "    minion_game(s)"
   ]
  },
  {
   "cell_type": "code",
   "execution_count": 277,
   "metadata": {},
   "outputs": [
    {
     "name": "stdout",
     "output_type": "stream",
     "text": [
      "ginortS1324\n",
      "--- 0.0009963512420654297 seconds ---\n",
      "2.8284023668639056\n"
     ]
    }
   ],
   "source": [
    "import time\n",
    "start_time = time.time()\n",
    "listt = range(100000)\n",
    "\n",
    "#print(*sorted('Sorting1234', key=lambda c: (-ord(c) >> 5, c in '02468', c)), sep='')\n",
    "\n",
    "print(*sorted('Sorting1234', key=lambda c: (c.isdigit() - c.islower(), c in '02468', c)), sep='')\n",
    "\n",
    "#order = 'abcdefghijklmnopqrstuvwxyzABCDEFGHIJKLMNOPQRSTUVWXYZ1357902468'\n",
    "#print(*sorted('Sorting1234', key=order.index), sep='')\n",
    "\n",
    "#import string\n",
    "#print(*sorted('Sorting1234', key=(string.ascii_letters + '1357902468').index), sep='')\n",
    "\n",
    "print(\"--- %s seconds ---\" % (time.time() - start_time))\n",
    "print(0.0478/0.0169)"
   ]
  },
  {
   "cell_type": "code",
   "execution_count": 278,
   "metadata": {},
   "outputs": [
    {
     "name": "stdout",
     "output_type": "stream",
     "text": [
      "ginortS1324\n",
      "ginortS1324\n",
      "ginortS1324\n",
      "ginortS1324\n",
      "ginortS1324\n"
     ]
    }
   ],
   "source": [
    "#3 8:57 - \n",
    "\n",
    "\n",
    "def sorting(string):\n",
    "    string = sorted(list(string))\n",
    "    string_dict = {'upper':[], 'lower':[], 'even':[], 'odd':[]}\n",
    "    for i in string:\n",
    "        if(i.isupper()):\n",
    "            string_dict['upper'].append(i)\n",
    "        elif(i.islower()):\n",
    "            string_dict['lower'].append(i)\n",
    "        elif(i.isdigit()):\n",
    "            if(int(i)%2==0):\n",
    "                string_dict['even'].append(i)\n",
    "            elif(int(i)%2==1):\n",
    "                string_dict['odd'].append(i)\n",
    "    a = string_dict['lower'] + string_dict['upper'] + string_dict['odd'] + string_dict['even']\n",
    "    return ''.join(a)\n",
    "\n",
    "if __name__ == '__main__':\n",
    "    string = 'Sorting1234'\n",
    "    print(sorting(string))\n",
    "    \n",
    "print(*sorted('Sorting1234', key=lambda c: (-ord(c) >> 5, c in '02468', c)), sep='')\n",
    "\n",
    "print(*sorted('Sorting1234', key=lambda c: (c.isdigit() - c.islower(), c in '02468', c)), sep='')\n",
    "\n",
    "order = 'abcdefghijklmnopqrstuvwxyzABCDEFGHIJKLMNOPQRSTUVWXYZ1357902468'\n",
    "print(*sorted('Sorting1234', key=order.index), sep='')\n",
    "\n",
    "import string\n",
    "print(*sorted('Sorting1234', key=(string.ascii_letters + '1357902468').index), sep='')\n",
    "\n",
    "#2.8284023668639056\n"
   ]
  },
  {
   "cell_type": "code",
   "execution_count": 281,
   "metadata": {},
   "outputs": [
    {
     "name": "stdout",
     "output_type": "stream",
     "text": [
      "81\n",
      "1\n"
     ]
    }
   ],
   "source": [
    "#4\n",
    "a = 3\n",
    "b = 4\n",
    "m = 5\n",
    "\n",
    "print(a**b)\n",
    "print((a**b) % m)"
   ]
  },
  {
   "cell_type": "code",
   "execution_count": null,
   "metadata": {},
   "outputs": [],
   "source": [
    "#5\n",
    "\n",
    "from itertools import product\n",
    "'''\n",
    "a = map(int, input().split())\n",
    "b = map(int, input().split())\n",
    "'''\n",
    "a = [1,2]\n",
    "b = [3,4]\n",
    "print(a, type(a), b, type(b))\n",
    "print(*product(a,b), type(product(a,b)))\n"
   ]
  },
  {
   "cell_type": "code",
   "execution_count": 438,
   "metadata": {},
   "outputs": [],
   "source": [
    "#1 6:09\n",
    "\n",
    "from itertools import permutations\n",
    "#print (list(permutations(['1','2','3'],2)))\n",
    "\n",
    "string, r = 'HACK 2'.split()\n",
    "\n",
    "lst = list(permutations(string,int(r)))\n",
    "\n",
    "#print('\\n'.join(sorted([''.join(i) for i in lst])))"
   ]
  },
  {
   "cell_type": "code",
   "execution_count": 437,
   "metadata": {},
   "outputs": [
    {
     "name": "stdout",
     "output_type": "stream",
     "text": [
      "A\n",
      "B\n",
      "C\n",
      "D\n",
      "AB\n",
      "AC\n",
      "AD\n",
      "BC\n",
      "BD\n",
      "CD\n",
      "ABC\n",
      "ABD\n",
      "ACD\n",
      "BCD\n",
      "A\n",
      "B\n",
      "C\n",
      "D\n",
      "AB\n",
      "AC\n",
      "AD\n",
      "BC\n",
      "BD\n",
      "CD\n",
      "ABC\n",
      "ABD\n",
      "ACD\n",
      "BCD\n"
     ]
    }
   ],
   "source": [
    "#2 8:18 - 9:10\n",
    "\n",
    "from itertools import combinations\n",
    "\n",
    "string, r = 'ABCD 3'.split()\n",
    "string, r = sorted(string), int(r) \n",
    "lst = sum([list(combinations(sorted(string), i)) for i in range(1, r+1)], [])\n",
    "print(*[''.join(i) for i in lst], sep='\\n')\n",
    "print('\\n'.join([''.join(i) for i in lst]))"
   ]
  },
  {
   "cell_type": "code",
   "execution_count": 443,
   "metadata": {},
   "outputs": [
    {
     "name": "stdout",
     "output_type": "stream",
     "text": [
      "AA\n",
      "AC\n",
      "AH\n",
      "AK\n",
      "CC\n",
      "CH\n",
      "CK\n",
      "HH\n",
      "HK\n",
      "KK\n"
     ]
    }
   ],
   "source": [
    "#3 9:19 - 9:24\n",
    "\n",
    "from itertools import combinations_with_replacement\n",
    "\n",
    "string, r = 'HACK 2'.split()\n",
    "string, r = sorted(string), int(r) \n",
    "#lst = sum([list(combinations_with_replacement(sorted(string), i)) for i in range(1, r+1)], [])\n",
    "\n",
    "lst = list(combinations_with_replacement(string,int(r)))\n",
    "\n",
    "print(*[''.join(i) for i in lst], sep='\\n')\n",
    "#print('\\n'.join([''.join(i) for i in lst]))"
   ]
  },
  {
   "cell_type": "code",
   "execution_count": 466,
   "metadata": {},
   "outputs": [
    {
     "name": "stdout",
     "output_type": "stream",
     "text": [
      "(1, 1) (3, 2) (1, 3) (2, 1)\n"
     ]
    }
   ],
   "source": [
    "#4 9:46 - 9:56\n",
    "from itertools import groupby\n",
    "string = '1222311'\n",
    "print(*[(len(list(c)), int(k)) for k, c in groupby(string)])"
   ]
  },
  {
   "cell_type": "code",
   "execution_count": 491,
   "metadata": {},
   "outputs": [
    {
     "name": "stdout",
     "output_type": "stream",
     "text": [
      "0.833\n"
     ]
    }
   ],
   "source": [
    "#5 2:26 - 2:50\n",
    "\n",
    "from itertools import combinations\n",
    "n = 4 \n",
    "a = ['a', 'a', 'c', 'd'].count('a')\n",
    "k = 2\n",
    "\n",
    "comb = list(combinations(lst, K))\n",
    "ins = sum(1 if ('a' in i) else 0 for i in comb)\n",
    "print('{0:.3f}'.format(ins/len(comb)))\n"
   ]
  },
  {
   "cell_type": "code",
   "execution_count": null,
   "metadata": {},
   "outputs": [],
   "source": [
    "#6 3:26 - \n"
   ]
  }
 ],
 "metadata": {
  "kernelspec": {
   "display_name": "Python 3",
   "language": "python",
   "name": "python3"
  },
  "language_info": {
   "codemirror_mode": {
    "name": "ipython",
    "version": 3
   },
   "file_extension": ".py",
   "mimetype": "text/x-python",
   "name": "python",
   "nbconvert_exporter": "python",
   "pygments_lexer": "ipython3",
   "version": "3.7.6"
  }
 },
 "nbformat": 4,
 "nbformat_minor": 4
}
