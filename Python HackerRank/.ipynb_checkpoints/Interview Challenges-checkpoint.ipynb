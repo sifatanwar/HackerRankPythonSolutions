{
 "cells": [
  {
   "cell_type": "code",
   "execution_count": 1,
   "metadata": {},
   "outputs": [],
   "source": [
    "# Hash Tables: Ransom Note\n",
    "\n",
    "#!/bin/python3\n",
    "\n",
    "import math\n",
    "import os\n",
    "import random\n",
    "import re\n",
    "import sys\n",
    "from collections import Counter\n",
    "\n",
    "# Complete the checkMagazine function below.\n",
    "def checkMagazine(magazine, note):\n",
    "#     print(magazine, note)\n",
    "#     magazine_dict = {}\n",
    "#     for i in magazine:\n",
    "#         magazine_dict[i] = magazine_dict.get(i, 0) + 1\n",
    "#     check = True        \n",
    "#     print(magazine_dict)\n",
    "#     for i in note:\n",
    "#         print(note.count(i), magazine_dict.get(i))\n",
    "#         if note.count(i) > magazine_dict.get(i, 0):\n",
    "#             check = False\n",
    "#     print('Yes') if check else print('No')\n",
    "    \n",
    "#     print(magazine, note)\n",
    "#     check = 'Yes'\n",
    "#     for i in note:\n",
    "#         if i in magazine:\n",
    "#             magazine.remove(i)\n",
    "#         else:\n",
    "#             check = 'No'  \n",
    "#     print(check)\n",
    "\n",
    "        \n",
    "   \n",
    "    return (Counter(note) - Counter(magazine)) == {}\n",
    "\n",
    "if __name__ == '__main__':\n",
    "#    mn = input().split()\n",
    "\n",
    "\n",
    "    '''\n",
    "    magazine = input().rstrip().split()\n",
    "\n",
    "    note = input().rstrip().split()\n",
    "    '''\n",
    "    mn = '7 4'.split()\n",
    "    m = int(mn[0])\n",
    "\n",
    "    n = int(mn[1])\n",
    "    magazine = 'give me one grand today night'.rstrip().split()\n",
    "    note = 'give one grand today'.rstrip().split()\n",
    "    checkMagazine(magazine, note)\n"
   ]
  },
  {
   "cell_type": "code",
   "execution_count": 2,
   "metadata": {},
   "outputs": [
    {
     "name": "stdout",
     "output_type": "stream",
     "text": [
      "set()\n"
     ]
    }
   ],
   "source": [
    "### Two Strings\n",
    "\n",
    "#!/bin/python3\n",
    "\n",
    "import math\n",
    "import os\n",
    "import random\n",
    "import re\n",
    "import sys\n",
    "\n",
    "# Complete the twoStrings function below.\n",
    "def twoStrings(s1, s2):\n",
    "    print(set(s1.rstrip()).intersection(set(s2.rstrip())))\n",
    "\n",
    "    return ('YES' if (set(s1.rstrip()).intersection(set(s2.rstrip())) != set()) else 'NO')\n",
    "if __name__ == '__main__':\n",
    "\n",
    "    q = 1\n",
    "\n",
    "    for q_itr in range(q):\n",
    "        s1 = 'hi'\n",
    "        s2 = 'world'\n",
    "        result = twoStrings(s1, s2)\n",
    "        \n",
    "\n"
   ]
  },
  {
   "cell_type": "code",
   "execution_count": 3,
   "metadata": {},
   "outputs": [
    {
     "name": "stdout",
     "output_type": "stream",
     "text": [
      "3\n"
     ]
    }
   ],
   "source": [
    "# Sock Merchant\n",
    "\n",
    "from collections import Counter\n",
    "\n",
    "'''\n",
    "def sockMerchant(n, ar):\n",
    "    print(n, ar)\n",
    "    ar.sort()\n",
    "    print(n, ar)\n",
    "    counter, i = 0, 1\n",
    "    while i < len(ar):\n",
    "        if ar[i] == ar[i-1]:\n",
    "            counter += 1\n",
    "            i += 2\n",
    "            # print(ar[i], ar[i-1], counter)\n",
    "        else:\n",
    "            # print(ar[i], ar[i-1], 'Nope')\n",
    "            i += 1\n",
    "'''\n",
    "def sockMerchant(n, ar):\n",
    "    count = Counter(ar)\n",
    "    counter = 0\n",
    "    for i in count.values():\n",
    "        counter += i//2\n",
    "    print(counter)\n",
    "    \n",
    "n = int(9)\n",
    "ar = list(map(int, '10 20 20 10 10 30 50 10 20'.rstrip().split()))\n",
    "sockMerchant(n, ar)"
   ]
  },
  {
   "cell_type": "code",
   "execution_count": 4,
   "metadata": {},
   "outputs": [
    {
     "name": "stdout",
     "output_type": "stream",
     "text": [
      "1\n"
     ]
    }
   ],
   "source": [
    "# Counting Valleys\n",
    "\n",
    "def countingValleys(n, s):\n",
    "    s = list(s)\n",
    "    depth = 0\n",
    "    count = 0\n",
    "    for ite in s:\n",
    "        if ite is 'D':\n",
    "            depth -= 1\n",
    "        elif ite is 'U':\n",
    "            depth += 1\n",
    "            if depth == 0:\n",
    "                count += 1\n",
    "    print(count)\n",
    "    \n",
    "def main():\n",
    "    n = 8 # number of steps\n",
    "    s = 'UDDDUDUU' # steps taken\n",
    "    countingValleys(n, s)\n",
    "    \n",
    "if __name__ == '__main__':\n",
    "    main()"
   ]
  },
  {
   "cell_type": "code",
   "execution_count": 14,
   "metadata": {},
   "outputs": [
    {
     "name": "stdout",
     "output_type": "stream",
     "text": [
      "[0, 0, 0, 0, 1, 0]\n",
      "3\n"
     ]
    }
   ],
   "source": [
    "# Jumping on the Clouds\n",
    "def jumpingOnClouds(c):\n",
    "    print(c)\n",
    "    jumps = 0\n",
    "    ite = 0\n",
    "    while ite < len(c)-1:\n",
    "        if ite+2 < len(c) and c[ite+2] == 0:\n",
    "            ite += 2\n",
    "            jumps += 1\n",
    "        elif c[ite+1] == 0:\n",
    "            ite += 1\n",
    "            jumps += 1\n",
    "        else:\n",
    "            print('You suck at coding!')\n",
    "    print(jumps)   \n",
    "    \n",
    "def main():\n",
    "    c = list(map(int, '0 0 0 0 1 0'.split(' ')))\n",
    "    jumpingOnClouds(c)\n",
    "if __name__ == '__main__':\n",
    "    main()"
   ]
  },
  {
   "cell_type": "code",
   "execution_count": 32,
   "metadata": {},
   "outputs": [
    {
     "name": "stdout",
     "output_type": "stream",
     "text": [
      "395886275361\n"
     ]
    }
   ],
   "source": [
    "# 44 Repeated String\n",
    "'''\n",
    "def repeatedString(s, n):\n",
    "    s = list(s)\n",
    "    print(s, n)\n",
    "    counter = 0\n",
    "    occurances = 0\n",
    "    while counter < n:\n",
    "        if s[counter % len(s)] == 'a':\n",
    "            occurances += 1\n",
    "        counter += 1\n",
    "    print(occurances)\n",
    "'''\n",
    "\n",
    "def repeatedString(s, n):\n",
    "    s = list(s)\n",
    "    # number of occurances in n\n",
    "    occ_s = sum([1 for i in s if i == 'a'])\n",
    "    # number of occurances in partial iteration post all full iteration (thus remainder modulus)\n",
    "    occ_n = sum([1 for i in range(0, (n%len(s))) if s[i] == 'a'])\n",
    "    \n",
    "    # multiplication of full string iteration (//) with occurances in one iteration\n",
    "    # add to the partial iteration\n",
    "    print(n//len(s) * occ_s + occ_n)\n",
    "    \n",
    "def main():\n",
    "    s = 'babbaabbabaababaaabbbbbbbababbbabbbababaabbbbaaaaabbaababaaabaabbabababaabaabbbababaabbabbbababbaabb'\n",
    "    n = 860622337747\n",
    "    repeatedString(s, n)\n",
    "\n",
    "if __name__ == '__main__':\n",
    "    main()\n",
    "    \n",
    "# 395886275361"
   ]
  },
  {
   "cell_type": "code",
   "execution_count": 101,
   "metadata": {},
   "outputs": [
    {
     "name": "stdout",
     "output_type": "stream",
     "text": [
      "0 : 0 , 0\n",
      "0 -6\n",
      "1 : 0 , 1\n",
      "1 -20\n",
      "2 : 0 , 2\n",
      "2 -25\n",
      "3 : 0 , 3\n",
      "3 -24\n",
      "4 : 1 , 0\n",
      "4 -22\n",
      "5 : 1 , 1\n",
      "5 -31\n",
      "6 : 1 , 2\n",
      "6 -28\n",
      "7 : 1 , 3\n",
      "7 -31\n",
      "8 : 2 , 0\n",
      "8 -25\n",
      "9 : 2 , 1\n",
      "9 -14\n",
      "10 : 2 , 2\n",
      "10 -24\n",
      "11 : 2 , 3\n",
      "11 -33\n",
      "12 : 3 , 0\n",
      "12 -20\n",
      "13 : 3 , 1\n",
      "13 -24\n",
      "14 : 3 , 2\n",
      "14 -19\n",
      "15 : 3 , 3\n",
      "15 -33\n",
      "-6\n"
     ]
    }
   ],
   "source": [
    "# 45 2D Array - DS\n",
    "\n",
    "\n",
    "def hourglassSum(arr):\n",
    "    sum_n = 0\n",
    "    max_n = -99999\n",
    "    for i in range((len(arr)-2)**2):\n",
    "        print(i, ':', i//4, ',', (i%4))\n",
    "        #sum_n = arr[i][i] + arr[i][i-1] + arr[i][i-2] + arr[i-1][i-1] + arr[i-2][i] + arr[i-2][i-1] + arr[i-2][i-2]\n",
    "        sum_n = arr[(i//4)][(i%4)] + arr[(i//4)][(i%4)+1] + arr[(i//4)][(i%4)+2] + arr[(i//4)+1][(i%4)+1] + arr[(i//4)+2][(i%4)] + arr[(i//4)+2][(i%4)+1] + arr[(i//4)+2][(i%4)+2]\n",
    "        if sum_n > max_n: max_n = sum_n\n",
    "        print(i, sum_n)\n",
    "        \n",
    "    print(max_n)\n",
    "    \n",
    "def main():\n",
    "    arr = []\n",
    "    arr.append(list(map(int, '-1 -1 +0 -9 -2 -2'.rstrip().split(' '))))\n",
    "    arr.append(list(map(int, '-2 -1 -6 -8 -2 -5'.rstrip().split(' '))))\n",
    "    arr.append(list(map(int, '-1 -1 -1 -2 -3 -4'.rstrip().split(' '))))\n",
    "    arr.append(list(map(int, '-1 -9 -2 -4 -4 -5'.rstrip().split(' '))))\n",
    "    arr.append(list(map(int, '-7 -3 -3 -2 -9 -9'.rstrip().split(' '))))\n",
    "    arr.append(list(map(int, '-1 -3 -1 -2 -4 -5'.rstrip().split(' '))))\n",
    "    hourglassSum(arr)\n",
    "\n",
    "if __name__ == '__main__':\n",
    "    main()"
   ]
  },
  {
   "cell_type": "code",
   "execution_count": 114,
   "metadata": {},
   "outputs": [
    {
     "name": "stdout",
     "output_type": "stream",
     "text": [
      "[1, 2, 3, 4, 5] : 4\n",
      "[5, 1, 2, 3, 4]\n"
     ]
    }
   ],
   "source": [
    "#46 Arrays: Left Rotation\n",
    "'''\n",
    "def rotLeft(a, d):\n",
    "    print(a, ':', d)\n",
    "    for _ in range(d):\n",
    "        a = a[1:] + a[0:1]\n",
    "        print(a, ':', d)\n",
    "'''\n",
    "def rotLeft(a, d):\n",
    "    print(a, ':', d)\n",
    "    print(a[d:] + a[:d])\n",
    "    \n",
    "def main():\n",
    "    n, d = map(int, '5 4'.split())\n",
    "    a = list(map(int, '1 2 3 4 5'.rstrip().split()))\n",
    "    rotLeft(a, d)\n",
    "\n",
    "if __name__ == '__main__':\n",
    "    main()"
   ]
  },
  {
   "cell_type": "code",
   "execution_count": 218,
   "metadata": {},
   "outputs": [
    {
     "name": "stdout",
     "output_type": "stream",
     "text": [
      "7\n"
     ]
    }
   ],
   "source": [
    "# 47 New Year Chaos\n",
    "\n",
    "def minimumBribes(q):\n",
    "    #print(q)\n",
    "    #init_q = list(range(1,len(q)+1))\n",
    "    #print(init_q)\n",
    "    \n",
    "    #init_q[2], init_q[1] = init_q[1], init_q[2]\n",
    "    sum_n = 0\n",
    "    '''    \n",
    "    for i in range(len(q)):\n",
    "        #print(q[i], '-', (i+1), '=', sum_n)\n",
    "        if (q[i] - (i+1)) >= 0 and (q[i] - (i+1)) <= 2: \n",
    "            sum_n += (q[i] - (i+1))\n",
    "            print(q[i], '-', (i+1), '=', sum_n)\n",
    "        elif (q[i] - (i+1)) > 2:\n",
    "            sum_n = 0\n",
    "            print(q[i], '-', (i+1), '=', sum_n)\n",
    "            break\n",
    "    print('Too chaotic') if sum_n == 0 else print(sum_n)\n",
    "    ''' \n",
    "\n",
    "    moves = 0 \n",
    "    q = [p-1 for p in q]\n",
    "    for i,p in enumerate(q):\n",
    "        if p - i > 2:\n",
    "            print(\"Too chaotic\")\n",
    "            return\n",
    "        for j in range(max(p-1,0),i):\n",
    "            if q[j] > p:\n",
    "                moves += 1\n",
    "    print(moves)\n",
    "    \n",
    "def main():\n",
    "    q = list(map(int, '1 2 5 3 7 8 6 4'.strip().split()))\n",
    "    minimumBribes(q)\n",
    "    \n",
    "    \n",
    "if __name__ == '__main__':\n",
    "    main()"
   ]
  },
  {
   "cell_type": "code",
   "execution_count": 149,
   "metadata": {},
   "outputs": [
    {
     "name": "stdout",
     "output_type": "stream",
     "text": [
      "[2, 3, 4, 1, 5] [1, 2, 3, 4, 5] {2: 0, 3: 1, 4: 2, 1: 3, 5: 4}\n",
      "Iteration 0 , Element 2\n",
      "Swaping...\n",
      "Iteration 0 [1, 3, 4, 2, 5] {2: 3, 3: 1, 4: 2, 1: 0, 5: 4}\n",
      "Iteration 1 , Element 3\n",
      "Swaping...\n",
      "Iteration 1 [1, 2, 4, 3, 5] {2: 1, 3: 3, 4: 2, 1: 0, 5: 4}\n",
      "Iteration 2 , Element 4\n",
      "Swaping...\n",
      "Iteration 2 [1, 2, 3, 4, 5] {2: 1, 3: 2, 4: 3, 1: 0, 5: 4}\n",
      "Iteration 3 , Element 4\n",
      "Iteration 4 , Element 5\n",
      "[1, 2, 3, 4, 5]\n"
     ]
    }
   ],
   "source": [
    "# 48 Minimum Swaps 2\n",
    "def minimumSwaps(arr):\n",
    "    '''\n",
    "    print('Initial', arr)\n",
    "    count = 0\n",
    "    for index, element in enumerate(arr):\n",
    "        if index != (element-1):\n",
    "            for jdex in range(index, len(arr)):\n",
    "                if (arr[jdex]-1) == index:\n",
    "                    temp = arr[jdex]\n",
    "                    arr[jdex] = arr[index]\n",
    "                    arr[index] = temp\n",
    "                    count += 1\n",
    "                    break\n",
    "    print('Final:', arr, count)\n",
    "    '''\n",
    "    '''count = 0\n",
    "    print(arr)\n",
    "    for i, element in enumerate(arr):\n",
    "        if i != (element-1):\n",
    "            print('wrong', arr[i]+1)\n",
    "            temp = arr[element-1]\n",
    "            arr[element-1] = arr[i]\n",
    "            arr[i] = temp\n",
    "            count += 1\n",
    "            print(arr)\n",
    "        else:\n",
    "            print('correct')'''\n",
    "        \n",
    "        \n",
    "        \n",
    "    dummy_list = sorted(arr)\n",
    "    ref_dict = {v: i for i, v in enumerate(arr)}\n",
    "    print(arr, dummy_list, ref_dict)\n",
    "    \n",
    "    for i, v in enumerate(arr):\n",
    "        print('Iteration', i, ', Element', arr[i])\n",
    "        if v != dummy_list[i]:\n",
    "            swap_index = ref_dict[dummy_list[i]]\n",
    "            swap_temp = arr[swap_index]\n",
    "            arr[swap_index] = arr[i]\n",
    "            arr[i] = swap_temp\n",
    "            ref_dict[v] = swap_index\n",
    "            ref_dict[swap_temp] = i\n",
    "    print(arr)\n",
    "            \n",
    "            \n",
    "def main():\n",
    "    arr = list(map(int, '2 3 4 1 5'.rstrip().split()))\n",
    "    minimumSwaps(arr)\n",
    "\n",
    "if __name__ == '__main__':\n",
    "    main()"
   ]
  },
  {
   "cell_type": "code",
   "execution_count": 125,
   "metadata": {},
   "outputs": [
    {
     "name": "stdout",
     "output_type": "stream",
     "text": [
      "[1, 2, 3, 4, 5]\n",
      "{2: 0, 3: 1, 4: 2, 1: 3, 5: 4}\n"
     ]
    }
   ],
   "source": [
    "def minimumSwaps(arr):\n",
    "    ref_arr = sorted(arr)\n",
    "    index_dict = {v: i for i,v in enumerate(arr)}\n",
    "    print(ref_arr)\n",
    "    print(index_dict)\n",
    "    swaps = 0\n",
    "    \n",
    "    for i,v in enumerate(arr):\n",
    "        correct_value = ref_arr[i]\n",
    "        if v != correct_value:\n",
    "            to_swap_ix = index_dict[correct_value]\n",
    "            arr[to_swap_ix],arr[i] = arr[i], arr[to_swap_ix]\n",
    "            index_dict[v] = to_swap_ix\n",
    "            index_dict[correct_value] = i\n",
    "            swaps += 1\n",
    "            \n",
    "    return swaps\n",
    "\n",
    "def main():\n",
    "    arr = list(map(int, '2 3 4 1 5'.rstrip().split()))\n",
    "    minimumSwaps(arr)\n",
    "\n",
    "if __name__ == '__main__':\n",
    "    main()"
   ]
  },
  {
   "cell_type": "code",
   "execution_count": null,
   "metadata": {},
   "outputs": [],
   "source": []
  }
 ],
 "metadata": {
  "kernelspec": {
   "display_name": "Python 3",
   "language": "python",
   "name": "python3"
  },
  "language_info": {
   "codemirror_mode": {
    "name": "ipython",
    "version": 3
   },
   "file_extension": ".py",
   "mimetype": "text/x-python",
   "name": "python",
   "nbconvert_exporter": "python",
   "pygments_lexer": "ipython3",
   "version": "3.7.6"
  }
 },
 "nbformat": 4,
 "nbformat_minor": 4
}
