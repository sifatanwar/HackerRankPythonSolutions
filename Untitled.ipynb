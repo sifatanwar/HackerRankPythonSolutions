{
 "cells": [
  {
   "cell_type": "code",
   "execution_count": 22,
   "metadata": {},
   "outputs": [
    {
     "name": "stdout",
     "output_type": "stream",
     "text": [
      "----------Hackerrank\n"
     ]
    }
   ],
   "source": [
    "width = 20\n",
    "str = 'Hackerrank'\n",
    "print(str.rjust(width,'-'))"
   ]
  },
  {
   "cell_type": "code",
   "execution_count": null,
   "metadata": {},
   "outputs": [],
   "source": [
    "#Replace all ______ with rjust, ljust or center. \n",
    "\n",
    "thickness = int(input()) #This must be an odd number\n",
    "c = 'H'\n",
    "\n",
    "#Top Cone\n",
    "for i in range(thickness):\n",
    "    print((c*i).rjust(thickness-1)+c+(c*i).ljust(thickness-1))\n",
    "\n",
    "#Top Pillars\n",
    "for i in range(thickness+1):\n",
    "    print((c*thickness).ljust(thickness*2)+(c*thickness).center(thickness*6))\n",
    "\n",
    "#Middle Belt\n",
    "for i in range((thickness+1)//2):\n",
    "    print((c*thickness*5).rjust(thickness*6))    \n",
    "\n",
    "#Bottom Pillars\n",
    "for i in range(thickness+1):\n",
    "    print((c*thickness).ljust(thickness*2)+(c*thickness).center(thickness*6))    \n",
    "\n",
    "#Bottom Cone\n",
    "for i in range(thickness):\n",
    "    print(((c*(thickness-i-1)).rjust(thickness)+c+(c*(thickness-i-1)).ljust(thickness)).rjust(thickness*6))"
   ]
  },
  {
   "cell_type": "code",
   "execution_count": null,
   "metadata": {},
   "outputs": [],
   "source": [
    "if __name__ == '__main__':\n",
    "    x = int(2)\n",
    "    y = int(2)\n",
    "    z = int(2)\n",
    "    n = int(2)\n",
    "\n",
    "    print([[i,j,k] for i in range(x+1) for j in range(y+1) for k in range(z+1) if (i+j+k != n)])"
   ]
  },
  {
   "cell_type": "code",
   "execution_count": null,
   "metadata": {},
   "outputs": [],
   "source": [
    "if __name__ == '__main__':\n",
    "#    n = int(input())\n",
    "\n",
    "#    arr = map(int, [int(input()) for i in range(n)])\n",
    "    arr = map(int, input().split()) #splits string into a list and converts to int\n",
    "    st = set(arr)\n",
    "    st.remove(max(st))\n",
    "    print(max(st))\n"
   ]
  },
  {
   "cell_type": "code",
   "execution_count": 68,
   "metadata": {},
   "outputs": [
    {
     "name": "stdout",
     "output_type": "stream",
     "text": [
      "['Larry', '35', 'Barry', '40', 'Mary', '35.5', 'Jerry', '38', 'Cary', '35.5']\n",
      "[['Larry', '35'], ['Barry', '40'], ['Mary', '35.5'], ['Jerry', '38'], ['Cary', '35.5']]\n"
     ]
    }
   ],
   "source": [
    "filename = 'physics_score'\n",
    "with open(filename, 'w') as file_obj:\n",
    "    for _ in range(int(input())):\n",
    "        file_obj.write(input()+'\\n')\n",
    "        file_obj.write(input()+'\\n')"
   ]
  },
  {
   "cell_type": "code",
   "execution_count": 105,
   "metadata": {},
   "outputs": [
    {
     "name": "stdout",
     "output_type": "stream",
     "text": [
      "[['Larry', 35.0], ['Barry', 40.0], ['Mary', 35.5], ['Jerry', 38.0], ['Cary', 35.5]]\n",
      "Cary\n",
      "Mary\n"
     ]
    }
   ],
   "source": [
    "if __name__ == '__main__':\n",
    "    filename = 'physics_score.log'\n",
    "    score_list = []\n",
    "    with open(filename) as f_obj:\n",
    "        lines = f_obj.readlines()\n",
    "    lines=list(map(str.strip, lines))\n",
    "    for count in range(0,len(lines),2):\n",
    "        score_list.append([lines[count],float(lines[count+1])])\n",
    "        \n",
    "    print(score_list)\n",
    "    \n",
    "\n",
    "    second_highest = sorted(list(set([marks for name, marks in score_list])))[1]\n",
    "    print('\\n'.join([a for a,b in sorted(score_list) if b == second_highest]))"
   ]
  },
  {
   "cell_type": "code",
   "execution_count": 100,
   "metadata": {},
   "outputs": [
    {
     "name": "stdout",
     "output_type": "stream",
     "text": [
      "Krishna 67 68 69\n",
      "Arjun 70 98 63\n",
      "Malika 52 56 60\n",
      "Harsh 25 26.5 28\n",
      "Anurag 26 28 30\n",
      "quit\n"
     ]
    }
   ],
   "source": [
    "if __name__ == '__main__':\n",
    "    with open('students', 'w') as d_obj:\n",
    "        user_input = ''\n",
    "        while user_input != 'quit\\n':\n",
    "            d_obj.write(user_input)\n",
    "            user_input = input() + '\\n'\n",
    "            "
   ]
  },
  {
   "cell_type": "code",
   "execution_count": 17,
   "metadata": {},
   "outputs": [
    {
     "name": "stdout",
     "output_type": "stream",
     "text": [
      "Krishna [67.0, 68.0, 69.0]\n",
      "Arjun [70.0, 98.0, 63.0]\n",
      "Malika [52.0, 56.0, 60.0]\n",
      "Harsh [25.0, 26.5, 28.0]\n",
      "Anurag [26.0, 28.0, 30.0]\n",
      "\n",
      "Harsh\n",
      "26.5\n"
     ]
    }
   ],
   "source": [
    "import numpy as np\n",
    "if __name__ == '__main__':\n",
    "    with open('students', 'r') as d_obj:\n",
    "        student_list = d_obj.readlines()\n",
    "    students = {}    \n",
    "    for student in student_list:\n",
    "        name, *line = student.split()\n",
    "        line = list(map(float, line))\n",
    "        print(name, line)\n",
    "        students.update({name:line})\n",
    "    print()\n",
    "\n",
    "    print(np.average(students[input()]))"
   ]
  },
  {
   "cell_type": "code",
   "execution_count": 18,
   "metadata": {},
   "outputs": [
    {
     "name": "stdout",
     "output_type": "stream",
     "text": [
      "\n"
     ]
    },
    {
     "ename": "ValueError",
     "evalue": "invalid literal for int() with base 10: ''",
     "output_type": "error",
     "traceback": [
      "\u001b[1;31m---------------------------------------------------------------------------\u001b[0m",
      "\u001b[1;31mValueError\u001b[0m                                Traceback (most recent call last)",
      "\u001b[1;32m<ipython-input-18-c27d122f263d>\u001b[0m in \u001b[0;36m<module>\u001b[1;34m\u001b[0m\n\u001b[0;32m      1\u001b[0m \u001b[1;32mif\u001b[0m \u001b[0m__name__\u001b[0m \u001b[1;33m==\u001b[0m \u001b[1;34m'__main__'\u001b[0m\u001b[1;33m:\u001b[0m\u001b[1;33m\u001b[0m\u001b[1;33m\u001b[0m\u001b[0m\n\u001b[1;32m----> 2\u001b[1;33m     \u001b[0mn\u001b[0m \u001b[1;33m=\u001b[0m \u001b[0mint\u001b[0m\u001b[1;33m(\u001b[0m\u001b[0minput\u001b[0m\u001b[1;33m(\u001b[0m\u001b[1;33m)\u001b[0m\u001b[1;33m)\u001b[0m\u001b[1;33m\u001b[0m\u001b[1;33m\u001b[0m\u001b[0m\n\u001b[0m\u001b[0;32m      3\u001b[0m     \u001b[0mstudent_marks\u001b[0m \u001b[1;33m=\u001b[0m \u001b[1;33m{\u001b[0m\u001b[1;33m}\u001b[0m\u001b[1;33m\u001b[0m\u001b[1;33m\u001b[0m\u001b[0m\n\u001b[0;32m      4\u001b[0m     \u001b[1;32mfor\u001b[0m \u001b[0m_\u001b[0m \u001b[1;32min\u001b[0m \u001b[0mrange\u001b[0m\u001b[1;33m(\u001b[0m\u001b[0mn\u001b[0m\u001b[1;33m)\u001b[0m\u001b[1;33m:\u001b[0m\u001b[1;33m\u001b[0m\u001b[1;33m\u001b[0m\u001b[0m\n\u001b[0;32m      5\u001b[0m         \u001b[0mname\u001b[0m\u001b[1;33m,\u001b[0m \u001b[1;33m*\u001b[0m\u001b[0mline\u001b[0m \u001b[1;33m=\u001b[0m \u001b[0minput\u001b[0m\u001b[1;33m(\u001b[0m\u001b[1;33m)\u001b[0m\u001b[1;33m.\u001b[0m\u001b[0msplit\u001b[0m\u001b[1;33m(\u001b[0m\u001b[1;33m)\u001b[0m\u001b[1;33m\u001b[0m\u001b[1;33m\u001b[0m\u001b[0m\n",
      "\u001b[1;31mValueError\u001b[0m: invalid literal for int() with base 10: ''"
     ]
    }
   ],
   "source": [
    "if __name__ == '__main__':\n",
    "    n = int(input())\n",
    "    student_marks = {}\n",
    "    for _ in range(n):\n",
    "        name, *line = input().split()\n",
    "        scores = list(map(float, line))\n",
    "        student_marks[name] = scores\n",
    "    query_name = input()\n",
    "    print(\"{:.2f}\".format(sum(student_marks[query_name])/len(student_marks[query_name])))"
   ]
  },
  {
   "cell_type": "code",
   "execution_count": 128,
   "metadata": {},
   "outputs": [
    {
     "name": "stdout",
     "output_type": "stream",
     "text": [
      "['a', 'b', 'c', 'd', 'e', 'f', 'g', 'h', 'i', 'j', 'k', 'l', 'm', 'n', 'o', 'p', 'q', 'r', 's', 't', 'u', 'v', 'w', 'x', 'y', 'z']\n",
      "13\n",
      "-----\n",
      "[]\n",
      "5 4\n",
      "-----\n",
      "[]\n",
      "5 3\n",
      "-----\n",
      "[]\n",
      "5 2\n",
      "-----\n",
      "[]\n",
      "5 1\n",
      "-----\n",
      "[]\n",
      "5 0\n",
      "[5, 4, 3]\n"
     ]
    }
   ],
   "source": [
    "if __name__ == '__main__':\n",
    "    size = 5\n",
    "    string_list = list('abcdefghijklmnopqrstuvwxyz')\n",
    "    print(string_list)\n",
    "    print(int(len(string_list)/2))\n",
    "    for count in range(size):\n",
    "        #print(''.join(string_list[int(len(string_list)/2):int(len(string_list)/2)+1]).center(size,'-'))\n",
    "        print(''.join(string_list[size-1:size-count-1]).center(size,'-'))\n",
    "        print(string_list[size-1:size-count-1])\n",
    "        print(size, size-count-1)\n",
    "        \n",
    "a = list(range(9))\n",
    "print(a[5:2:-1])"
   ]
  },
  {
   "cell_type": "code",
   "execution_count": null,
   "metadata": {},
   "outputs": [],
   "source": [
    "#size 3\n",
    "\n",
    "----c----\n",
    "--c-b-c--\n",
    "c-b-a-b-c\n",
    "--c-b-c--\n",
    "----c----"
   ]
  }
 ],
 "metadata": {
  "kernelspec": {
   "display_name": "Python 3",
   "language": "python",
   "name": "python3"
  },
  "language_info": {
   "codemirror_mode": {
    "name": "ipython",
    "version": 3
   },
   "file_extension": ".py",
   "mimetype": "text/x-python",
   "name": "python",
   "nbconvert_exporter": "python",
   "pygments_lexer": "ipython3",
   "version": "3.7.6"
  }
 },
 "nbformat": 4,
 "nbformat_minor": 4
}
