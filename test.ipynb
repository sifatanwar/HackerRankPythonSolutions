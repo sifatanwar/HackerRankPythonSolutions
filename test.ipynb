{
 "cells": [
  {
   "cell_type": "code",
   "execution_count": 16,
   "metadata": {},
   "outputs": [
    {
     "name": "stdout",
     "output_type": "stream",
     "text": [
      "['5', '1', 'P', 'a', '*', '0', 'L', 'p', '*', '0', 'e']\n",
      "0 5 ['5', '1', 'P', 'a', '*', '0', 'L', 'p', '*', '0', 'e']\n",
      "1 0 ['5', '0', '1', 'P', 'a', '*', '0', 'L', 'p', '*', '0', 'e']\n",
      "2 0 ['0', '5', '0', '1', 'P', 'a', '*', '0', 'L', 'p', '*', '0', 'e']\n",
      "3 0 ['0', '0', '5', '0', '1', 'P', 'a', '*', '0', 'L', 'p', '*', '0', 'e']\n",
      "4 0 ['0', '0', '0', '5', '0', '1', 'P', 'a', '*', '0', 'L', 'p', '*', '0', 'e']\n",
      "5 0 ['0', '0', '0', '0', '5', '0', '1', 'P', 'a', '*', '0', 'L', 'p', '*', '0', 'e']\n",
      "6 0 ['0', '0', '0', '0', '0', '5', '0', '1', 'P', 'a', '*', '0', 'L', 'p', '*', '0', 'e']\n",
      "7 0 ['0', '0', '0', '0', '0', '0', '5', '0', '1', 'P', 'a', '*', '0', 'L', 'p', '*', '0', 'e']\n",
      "8 0 ['0', '0', '0', '0', '0', '0', '0', '5', '0', '1', 'P', 'a', '*', '0', 'L', 'p', '*', '0', 'e']\n",
      "9 0 ['0', '0', '0', '0', '0', '0', '0', '0', '5', '0', '1', 'P', 'a', '*', '0', 'L', 'p', '*', '0', 'e']\n",
      "10 0 ['0', '0', '0', '0', '0', '0', '0', '0', '0', '5', '0', '1', 'P', 'a', '*', '0', 'L', 'p', '*', '0', 'e']\n",
      "['0', '0', '0', '0', '0', '0', '0', '0', '0', '0', '5', '0', '1', 'P', 'a', '*', '0', 'L', 'p', '*', '0', 'e']\n",
      "0000000000501Pa*0Lp*0e\n"
     ]
    }
   ],
   "source": [
    "def decryptPassword(s):\n",
    "    # Write your code here\n",
    "    s = list(s)\n",
    "    print(s)\n",
    "    for i in range(len(s)):\n",
    "        print(i, s[i], s)\n",
    "        if s[i].islower() and s[i+1].isupper():\n",
    "            temp = s[i+1]\n",
    "            s[i+1] = s[i]\n",
    "            s[i] = temp\n",
    "            s.insert(i+2, '*')\n",
    "            i = i + 2\n",
    "        if s[i].isnumeric():\n",
    "            s.insert(0, s[i])\n",
    "            s[i+1] = '0'\n",
    "            i+=3\n",
    "            \n",
    "    \n",
    "    print(s)\n",
    "    return ''.join(s)\n",
    "\n",
    "print(decryptPassword('51Pa*0Lp*0e'))"
   ]
  }
 ],
 "metadata": {
  "kernelspec": {
   "display_name": "Python 3",
   "language": "python",
   "name": "python3"
  },
  "language_info": {
   "codemirror_mode": {
    "name": "ipython",
    "version": 3
   },
   "file_extension": ".py",
   "mimetype": "text/x-python",
   "name": "python",
   "nbconvert_exporter": "python",
   "pygments_lexer": "ipython3",
   "version": "3.7.6"
  }
 },
 "nbformat": 4,
 "nbformat_minor": 4
}
